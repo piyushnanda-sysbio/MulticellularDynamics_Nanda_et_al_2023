{
 "cells": [
  {
   "cell_type": "markdown",
   "id": "14d80b0c-6a42-4b7d-9429-43b5234411b4",
   "metadata": {},
   "source": [
    "# Growth rate effect"
   ]
  },
  {
   "cell_type": "code",
   "execution_count": 1,
   "id": "ca549f26-ae5a-48d0-aeba-fd432a536ffb",
   "metadata": {},
   "outputs": [],
   "source": [
    "import networkx as nx\n",
    "import numpy as np\n",
    "import pandas as pd\n",
    "import seaborn as sns\n",
    "import matplotlib.pyplot as plt \n",
    "import scipy as sp\n",
    "from pylab import *\n",
    "from networkx.drawing.nx_pydot import graphviz_layout\n",
    "from networkx.algorithms import bipartite\n",
    "import random as rd\n",
    "from collections import Counter\n",
    "import pylab \n",
    "import scipy.stats as stats\n",
    "import warnings\n",
    "from sklearn.linear_model import LinearRegression\n",
    "from sklearn.metrics import mean_squared_error, r2_score\n",
    "from scipy.signal import savgol_filter\n",
    "\n",
    "\n",
    "warnings.filterwarnings('ignore')\n",
    "\n",
    "%matplotlib inline\n"
   ]
  },
  {
   "cell_type": "markdown",
   "id": "d6ece06d-4124-4aa3-8f14-774c574b2a9e",
   "metadata": {},
   "source": [
    "# Model"
   ]
  },
  {
   "cell_type": "code",
   "execution_count": 2,
   "id": "61d5fcf0-b53c-42b7-a8fb-930d10a70984",
   "metadata": {},
   "outputs": [],
   "source": [
    "#Function for drawing radial graphs in NetworkX library\n",
    "def hierarchy_pos(G, root=None, width=1., vert_gap = 0.2, vert_loc = 0, xcenter = 0.5):\n",
    "\n",
    "    if not nx.is_tree(G):\n",
    "        raise TypeError('cannot use hierarchy_pos on a graph that is not a tree')\n",
    "\n",
    "    if root is None:\n",
    "        if isinstance(G, nx.DiGraph):\n",
    "            root = next(iter(nx.topological_sort(G)))  #allows back compatibility with nx version 1.11\n",
    "        else:\n",
    "            root = random.choice(list(G.nodes))\n",
    "\n",
    "    def _hierarchy_pos(G, root, width=1., vert_gap = 0.2, vert_loc = 0, xcenter = 0.5, pos = None, parent = None):\n",
    "    \n",
    "        if pos is None:\n",
    "            pos = {root:(xcenter,vert_loc)}\n",
    "        else:\n",
    "            pos[root] = (xcenter, vert_loc)\n",
    "        children = list(G.neighbors(root))\n",
    "        if not isinstance(G, nx.DiGraph) and parent is not None:\n",
    "            children.remove(parent)  \n",
    "        if len(children)!=0:\n",
    "            dx = width/len(children) \n",
    "            nextx = xcenter - width/2 - dx/2\n",
    "            for child in children:\n",
    "                nextx += dx\n",
    "                pos = _hierarchy_pos(G,child, width = dx, vert_gap = vert_gap, \n",
    "                                    vert_loc = vert_loc-vert_gap, xcenter=nextx,\n",
    "                                    pos=pos, parent = root)\n",
    "        return pos\n",
    "\n",
    "            \n",
    "    return _hierarchy_pos(G, root, width, vert_gap, vert_loc, xcenter)"
   ]
  },
  {
   "cell_type": "code",
   "execution_count": 3,
   "id": "4995b02a-ab9c-4b23-b6a6-5043d502ca5d",
   "metadata": {},
   "outputs": [],
   "source": [
    "#Counting the number of clusters and composition of cluster (cells per cluster)\n",
    "def module_counter():\n",
    "    global g\n",
    "    cluster_counter=0\n",
    "    for e in g.edges():\n",
    "        if(g.edges[e[0],e[1]]['break']==0):\n",
    "            cluster_counter=cluster_counter+1\n",
    "            for n in g.nodes():\n",
    "                if(n.endswith(e[1][1:])):\n",
    "                    g.nodes[n]['clust']=str(cluster_counter)"
   ]
  },
  {
   "cell_type": "code",
   "execution_count": 4,
   "id": "63dcaafb-9e5e-4dbf-b2c5-3d9705f10ab6",
   "metadata": {},
   "outputs": [],
   "source": [
    "#Calculation of Kullback-Leibler Divergence between the experimental and model derived distribution\n",
    "def KL(a, b):\n",
    "    a = np.asarray(a, dtype=np.float)\n",
    "    b = np.asarray(b, dtype=np.float)\n",
    "    return np.sum(np.where(a != 0, a * np.log(a / b), 0))"
   ]
  },
  {
   "cell_type": "code",
   "execution_count": 5,
   "id": "c09fcc71-bf7a-4af0-a54e-1886ce409292",
   "metadata": {},
   "outputs": [],
   "source": [
    "#Count the distribution of number of cells per cluster\n",
    "def count_freq(g):\n",
    "    clust_information=[]\n",
    "    for n in g.nodes():\n",
    "        clust_information.append(g.nodes[n]['clust'])\n",
    "    a=Counter(clust_information)\n",
    "    freq=list(a.values())\n",
    "    keys=list(a.keys())\n",
    "    return freq,keys"
   ]
  },
  {
   "cell_type": "code",
   "execution_count": 6,
   "id": "3b05e118-fcfa-4209-bedd-138cf192bb77",
   "metadata": {},
   "outputs": [],
   "source": [
    "def graph_snap(t,sim_time):\n",
    "    for n in g.nodes():\n",
    "        g.nodes[n]['snap_time']=int(str(n)[1])\n",
    "    for e in g.edges():\n",
    "        if(g.edges[e[0],e[1]]['break']==1):\n",
    "            g.edges[e[0],e[1]]['snap_time']=int(e[1][1])-1\n",
    "        else:\n",
    "            g.edges[e[0],e[1]]['snap_time']=sim_time"
   ]
  },
  {
   "cell_type": "code",
   "execution_count": 7,
   "id": "ecaaa812-0a86-432e-8122-28ba27e7d934",
   "metadata": {
    "tags": []
   },
   "outputs": [],
   "source": [
    "\n",
    "def break_cluster(t,max_node):\n",
    "    global g\n",
    "    cluster_counter=0\n",
    "    degree_list=[]\n",
    "    \n",
    "    for e in g.edges():\n",
    "        if(t>=g.edges[e[0],e[1]]['t_break'] and (g.edges[e[0],e[1]]['break']!=0)):\n",
    "            g.edges[e[0],e[1]]['break']=0\n",
    "\n",
    "\n",
    "    node_list=[node for node in g.nodes()]\n",
    "    for node in node_list:\n",
    "        edges_temp=g.edges(node)\n",
    "        break_list=[g.edges[ed[0],ed[1]]['break'] for ed in edges_temp]\n",
    "        degree_list.append(sum(break_list))\n",
    "    max_nodes = [node_list[i] for i, x in enumerate(degree_list) if x == max(degree_list)]\n",
    "    max_degrees = [degree_list[i] for i, x in enumerate(degree_list) if x == max(degree_list)]\n",
    "    \n",
    "    for i,node in enumerate(max_nodes):\n",
    "        if(max_degrees[i]>=max_node):\n",
    "            edges=[edge for edge in g.edges(node) if g.edges[edge[0],edge[1]]['break']!=0]\n",
    "            edge_bt=[g.edges[e[0],e[1]]['t_break'] for e in edges]\n",
    "            for k,bt in enumerate(edge_bt): \n",
    "                if(np.round(bt,0)>=t):\n",
    "                    edge_tbb=edges[k]\n",
    "                    g.edges[edge_tbb[0],edge_tbb[1]]['break']=0    \n",
    "\n",
    "        "
   ]
  },
  {
   "cell_type": "code",
   "execution_count": 8,
   "id": "0612a699-4db7-4679-b7d1-619abe1b0ed7",
   "metadata": {},
   "outputs": [],
   "source": [
    "def grow(t,mbt):\n",
    "    global g\n",
    "    nextg=g.copy()\n",
    "    for n in g.nodes():\n",
    "        new_node='Y'+str(t)+'_'+str(n)[1:] #Naming daughter cells to track lineage information\n",
    "        nextg.add_edge(str(n),new_node) #Growth\n",
    "        nextg.nodes[new_node]['clust']=nextg.nodes[str(n)]['clust'] #Inherit the cluster information\n",
    "        nextg.edges[str(n),new_node]['break']=1\n",
    "        nextg.edges[str(n),new_node]['t_break']=t+np.random.exponential(scale=mbt)\n",
    "    g=nextg\n",
    "\n"
   ]
  },
  {
   "cell_type": "code",
   "execution_count": 9,
   "id": "45330d83-d704-4a92-89e0-e2b0e3d705ab",
   "metadata": {},
   "outputs": [],
   "source": [
    "def init_system():\n",
    "    global g\n",
    "    g=nx.Graph() #Initialization \n",
    "    g.add_node('Y0') #Mother yeast cell \n",
    "    g.nodes['Y0']['clust']='0'\n",
    "    nextg=g.copy()"
   ]
  },
  {
   "cell_type": "code",
   "execution_count": 10,
   "id": "bc56b802-46b4-42a5-8e8e-d05defdeb190",
   "metadata": {},
   "outputs": [],
   "source": [
    "def fit_fun(x,a,b):\n",
    "    y=(a*x)/(b+x)\n",
    "    return y"
   ]
  },
  {
   "cell_type": "code",
   "execution_count": 11,
   "id": "1a407ceb-2db6-4f5b-8da9-378081862165",
   "metadata": {},
   "outputs": [],
   "source": [
    "#Main function to call other functions associated with dissociation of the cluster, counting of cells per custer\n",
    "def clust_form_and_break(sim_time,max_node,mbt,dt,i):\n",
    "    global g\n",
    "    global arr\n",
    "    init_system()\n",
    "        \n",
    "    for t in range(sim_time):\n",
    "        if(int(t%dt)==0): \n",
    "            grow(t,mbt)\n",
    "        break_cluster(t,max_node)\n",
    "        graph_snap(t,sim_time)\n",
    "        module_counter()\n",
    "        if(t==i):\n",
    "            freq1,keys1=count_freq(g)\n",
    "        if(t==i+1):\n",
    "            freq2,keys2=count_freq(g)\n",
    "    \n",
    "    df1=pd.DataFrame({'Keys':keys1,'Freq(t)':freq1})\n",
    "    df2=pd.DataFrame({'Keys':keys2,'Freq(t+1)':freq2})\n",
    "    \n",
    "    return g,df1,df2"
   ]
  },
  {
   "cell_type": "code",
   "execution_count": 41,
   "id": "c2ad3beb-f7b3-4784-8c93-b31e9e008854",
   "metadata": {},
   "outputs": [],
   "source": [
    "break_ratio=[]\n",
    "\n",
    "\n",
    "for i in range(10):\n",
    "    g,a,b=clust_form_and_break(30,8,100,3,26)\n",
    "    df_mix=a.merge(b)\n",
    "    df_mix['Ratio']=df_mix['Freq(t+1)']/df_mix['Freq(t)']\n",
    "    break_ratio.extend(list(df_mix.loc[df_mix['Ratio']<=0.5,'Ratio']))"
   ]
  },
  {
   "cell_type": "code",
   "execution_count": 42,
   "id": "1d07e079-98c3-48ce-bee4-b5e114fffdce",
   "metadata": {},
   "outputs": [
    {
     "data": {
      "image/png": "[encoded data removed]",
      "text/plain": [
       "<Figure size 360x360 with 1 Axes>"
      ]
     },
     "metadata": {
      "needs_background": "light"
     },
     "output_type": "display_data"
    }
   ],
   "source": [
    "plt.rc('font',family='helvetica')\n",
    "plt.figure(figsize=(5,5))\n",
    "plt.hist(pd.Series(break_ratio),linestyle='--',bins=np.logspace(-6,-1,base=2,num=6),edgecolor='black',linewidth=3,color='cyan')\n",
    "plt.xlabel(r'$\\frac{S_{daughter}}{S_{mother}}$',fontsize=25)\n",
    "plt.ylabel('Count',fontsize=20)\n",
    "# plt.xlim([0.01,1.1])\n",
    "plt.xticks(fontsize=20)\n",
    "plt.yticks(fontsize=20)\n",
    "# plt.text(2**-6,5,'n=28',fontsize=20)\n",
    "plt.xscale('log',base=2)\n",
    "plt.tight_layout()\n",
    "\n",
    "plt.savefig('/Users/piyushnanda/Documents/PhD_MurrayLab/EMC/Figures/Final/Breaking_Dynamics_Fraction_Model.jpg',dpi=1200)"
   ]
  },
  {
   "cell_type": "markdown",
   "id": "d25f8d72-e2cc-4e3e-96cb-762ad74b91b2",
   "metadata": {},
   "source": [
    "### From Simulation"
   ]
  },
  {
   "cell_type": "code",
   "execution_count": 43,
   "id": "cda1260d-a29d-4d9b-baca-baa558dc81f8",
   "metadata": {},
   "outputs": [],
   "source": [
    "f_sim,b=np.histogram(break_ratio,bins=np.logspace(-6,-1,base=2,num=6))\n",
    "f_sim_norm=f_sim/sum(f_sim)"
   ]
  },
  {
   "cell_type": "code",
   "execution_count": 44,
   "id": "f518f869-cf90-49eb-a5ca-50968056cc8f",
   "metadata": {},
   "outputs": [
    {
     "data": {
      "text/plain": [
       "array([0.03921569, 0.09803922, 0.11764706, 0.17647059, 0.56862745])"
      ]
     },
     "execution_count": 44,
     "metadata": {},
     "output_type": "execute_result"
    }
   ],
   "source": [
    "f_sim_norm"
   ]
  },
  {
   "cell_type": "markdown",
   "id": "451b72c8-c08e-48da-9a8b-074deaacc3dc",
   "metadata": {},
   "source": [
    "### From Experiment"
   ]
  },
  {
   "cell_type": "code",
   "execution_count": 45,
   "id": "40454fe0-54a4-43b4-b7dc-56795e8df6df",
   "metadata": {},
   "outputs": [],
   "source": [
    "f_exp=pd.read_csv('/Users/piyushnanda/Documents/PhD_MurrayLab/EMC/Analysis/Ratio/ratio_exp.csv')['Freq']\n",
    "f_exp_norm=f_exp/sum(f_exp)"
   ]
  },
  {
   "cell_type": "code",
   "execution_count": 46,
   "id": "0e150e25-a890-4cb7-bfc3-f5a0cb01a7b5",
   "metadata": {},
   "outputs": [
    {
     "data": {
      "text/plain": [
       "0    0.037037\n",
       "1    0.111111\n",
       "2    0.222222\n",
       "3    0.259259\n",
       "4    0.370370\n",
       "Name: Freq, dtype: float64"
      ]
     },
     "execution_count": 46,
     "metadata": {},
     "output_type": "execute_result"
    }
   ],
   "source": [
    "f_exp_norm"
   ]
  },
  {
   "cell_type": "code",
   "execution_count": 47,
   "id": "ed9b8f3d-72b2-4559-a22f-a5fcab976b96",
   "metadata": {},
   "outputs": [],
   "source": [
    "lin_conc=np.array(f_exp_norm).reshape(-1,1)\n",
    "lin_size=np.array(f_sim_norm).reshape(-1,1)\n",
    "lreg=LinearRegression().fit(lin_conc,lin_size)\n",
    "m1=lreg.coef_\n",
    "c1=lreg.intercept_\n",
    "Ypred=lreg.predict(lin_conc)\n",
    "r2=r2_score(lin_size,Ypred)   "
   ]
  },
  {
   "cell_type": "code",
   "execution_count": 49,
   "id": "7b8e8a1b-e2e0-4470-b41e-d99fbaaccec8",
   "metadata": {},
   "outputs": [
    {
     "data": {
      "image/png": "[encoded data removed]",
      "text/plain": [
       "<Figure size 360x360 with 1 Axes>"
      ]
     },
     "metadata": {
      "needs_background": "light"
     },
     "output_type": "display_data"
    }
   ],
   "source": [
    "plt.rc('font',family='helvetica')\n",
    "plt.figure(figsize=(5,5))\n",
    "\n",
    "ul=f_sim_norm.max()*1.2\n",
    "\n",
    "plt.scatter(f_exp_norm,f_sim_norm,marker='s',color='black',s=100)\n",
    "plt.plot([-0.05,ul],[-0.05,ul],linestyle='--',color='k',alpha=0.3,linewidth=4)\n",
    "plt.xlim([-0.05,ul])\n",
    "plt.ylim([-0.05,ul])\n",
    "plt.xlabel('Experimental Qualtiles',fontsize=20)\n",
    "plt.ylabel('Simulation Quantiles',fontsize=20)\n",
    "plt.xticks(fontsize=16)\n",
    "plt.yticks(fontsize=16)\n",
    "# plt.xscale('log',base=2)\n",
    "# plt.yscale('log',base=2)\n",
    "r='r$^2$='+str(round(r2,2))\n",
    "plt.text(0.05,0.35,r,fontsize=18)\n",
    "plt.tight_layout()\n",
    "plt.savefig('/Users/piyushnanda/Documents/PhD_MurrayLab/EMC/Figures/Final/Experimental_vs_Simulation_quantiles.jpg',dpi=600)"
   ]
  },
  {
   "cell_type": "markdown",
   "id": "9a96e059-5fa6-4b06-9ecf-cbf418bf6ca7",
   "metadata": {},
   "source": [
    "## Distribution of r2 values"
   ]
  },
  {
   "cell_type": "code",
   "execution_count": 153,
   "id": "35959524-925c-424a-a945-a9426e1ff91d",
   "metadata": {},
   "outputs": [],
   "source": [
    "r2_values=[]\n",
    "m1_values=[]\n",
    "for j in range(100):\n",
    "    break_ratio=[]\n",
    "    for i in range(10):\n",
    "        g,a,b=clust_form_and_break(30,8,100,3,26)\n",
    "        df_mix=a.merge(b)\n",
    "        df_mix['Ratio']=df_mix['Freq(t+1)']/df_mix['Freq(t)']\n",
    "        break_ratio.extend(list(df_mix.loc[df_mix['Ratio']<=0.5,'Ratio']))\n",
    "\n",
    "    f_sim,b=np.histogram(break_ratio,bins=np.logspace(-6,-1,base=2,num=6))\n",
    "    f_sim_norm=f_sim/sum(f_sim)\n",
    "    \n",
    "    lin_conc=np.array(f_exp_norm).reshape(-1,1)\n",
    "    lin_size=np.array(f_sim_norm).reshape(-1,1)\n",
    "    lreg=LinearRegression().fit(lin_conc,lin_size)\n",
    "    m1=lreg.coef_\n",
    "    c1=lreg.intercept_\n",
    "    Ypred=lreg.predict(lin_conc)\n",
    "    r2=r2_score(lin_size,Ypred) \n",
    "    \n",
    "    r2_values.append(r2)\n",
    "    m1_values.append(m1[0][0])"
   ]
  },
  {
   "cell_type": "code",
   "execution_count": 175,
   "id": "76970539-b1f3-4023-a0c0-c24f5e224b02",
   "metadata": {},
   "outputs": [
    {
     "data": {
      "image/png": "[encoded data removed]",
      "text/plain": [
       "<Figure size 288x288 with 1 Axes>"
      ]
     },
     "metadata": {
      "needs_background": "light"
     },
     "output_type": "display_data"
    }
   ],
   "source": [
    "plt.rc('font',family='serif')\n",
    "plt.figure(figsize=(4,4))\n",
    "sns.distplot(r2_values,kde_kws=dict(color='black',linestyle='--'),hist_kws=dict(color='cyan',edgecolor='black'))\n",
    "plt.xlabel('r$^{2}$ value',fontsize=16)\n",
    "plt.ylabel('Density',fontsize=16)\n",
    "plt.xticks(fontsize=12)\n",
    "plt.yticks(fontsize=12)\n",
    "plt.tight_layout()\n",
    "plt.savefig('/Users/piyushnanda/Documents/PhD_MurrayLab/EMC/Figures/Final/fig2_r2_dist.jpg',dpi=600)"
   ]
  },
  {
   "cell_type": "code",
   "execution_count": 176,
   "id": "3161ee15-a440-4388-99d8-0a41bbbe9f60",
   "metadata": {},
   "outputs": [
    {
     "data": {
      "image/png": "[encoded data removed]",
      "text/plain": [
       "<Figure size 288x288 with 1 Axes>"
      ]
     },
     "metadata": {
      "needs_background": "light"
     },
     "output_type": "display_data"
    }
   ],
   "source": [
    "plt.rc('font',family='serif')\n",
    "plt.figure(figsize=(4,4))\n",
    "sns.distplot(m1_values,kde_kws=dict(color='black',linestyle='--'),hist_kws=dict(color='cyan',edgecolor='black'))\n",
    "plt.xlabel('Slope value',fontsize=16)\n",
    "plt.ylabel('Density',fontsize=16)\n",
    "plt.xticks(fontsize=12)\n",
    "plt.yticks(fontsize=12)\n",
    "plt.tight_layout()\n",
    "plt.savefig('/Users/piyushnanda/Documents/PhD_MurrayLab/EMC/Figures/Final/fig2_slope_dist.jpg',dpi=600)"
   ]
  },
  {
   "cell_type": "code",
   "execution_count": null,
   "id": "bea1e09e-c545-4b38-ae26-fe6cc50b9b4a",
   "metadata": {},
   "outputs": [],
   "source": []
  }
 ],
 "metadata": {
  "kernelspec": {
   "display_name": "Python 3",
   "language": "python",
   "name": "python3"
  },
  "language_info": {
   "codemirror_mode": {
    "name": "ipython",
    "version": 3
   },
   "file_extension": ".py",
   "mimetype": "text/x-python",
   "name": "python",
   "nbconvert_exporter": "python",
   "pygments_lexer": "ipython3",
   "version": "3.8.8"
  }
 },
 "nbformat": 4,
 "nbformat_minor": 5
}
