{
 "cells": [
  {
   "cell_type": "code",
   "execution_count": 1,
   "id": "e76f9890-d423-49ee-9aa2-954bae492767",
   "metadata": {},
   "outputs": [],
   "source": [
    "import networkx as nx\n",
    "import numpy as np\n",
    "import pandas as pd\n",
    "import seaborn as sns\n",
    "import matplotlib.pyplot as plt \n",
    "import scipy as sp\n",
    "from pylab import *\n",
    "from networkx.drawing.nx_pydot import graphviz_layout\n",
    "from networkx.algorithms import bipartite\n",
    "import random as rd\n",
    "from collections import Counter\n",
    "import pylab \n",
    "import scipy.stats as stats\n",
    "import warnings\n",
    "from sklearn.linear_model import LinearRegression\n",
    "from sklearn.metrics import mean_squared_error, r2_score\n",
    "import os\n",
    "\n",
    "warnings.filterwarnings('ignore')\n",
    "%matplotlib inline\n",
    "\n"
   ]
  },
  {
   "cell_type": "code",
   "execution_count": 2,
   "id": "e49df28b-c07d-4e91-85f4-2bbae1cb77ef",
   "metadata": {},
   "outputs": [
    {
     "name": "stdout",
     "output_type": "stream",
     "text": [
      "/Users/piyushnanda/Documents/PhD_MurrayLab/EMC/Data/eEMC011/breaking_time_lapses/Final\n"
     ]
    }
   ],
   "source": [
    "cd /Users/piyushnanda/Documents/PhD_MurrayLab/EMC/Data/eEMC011/breaking_time_lapses/Final/"
   ]
  },
  {
   "cell_type": "code",
   "execution_count": 3,
   "id": "2ba57732-f30f-4df0-8dfd-78b6c7bd2057",
   "metadata": {},
   "outputs": [],
   "source": [
    "files=sorted(os.listdir())\n",
    "size_data=pd.DataFrame()\n",
    "\n",
    "for f in files:\n",
    "    if('.csv' in f):\n",
    "        df=pd.read_csv(f)\n",
    "        size_data=size_data.append(df,ignore_index=True)\n",
    "\n",
    "size_data['TotalInt']=size_data['Area']*size_data['Mean']\n",
    "cell_count=size_data['TotalInt']\n",
    "cell_arr=np.array(cell_count).reshape(int(len(cell_count)/3),3)"
   ]
  },
  {
   "cell_type": "code",
   "execution_count": 4,
   "id": "8905f608-1420-4178-a02d-b0a446681c7f",
   "metadata": {},
   "outputs": [],
   "source": [
    "s_s_s=[]\n",
    "s_s_b=[]\n",
    "s_s_t=[]\n",
    "for a in cell_arr:\n",
    "    s_s_t.append(a[1]+a[2])\n",
    "    if(a[2]>a[1]):\n",
    "        s_s_s.append(a[1])\n",
    "        s_s_b.append(a[2])\n",
    "    else:\n",
    "        s_s_s.append(a[2])\n",
    "        s_s_b.append(a[1])\n",
    "\n",
    "df=pd.DataFrame({'s':s_s_s,'b':s_s_b,'t':s_s_t})\n",
    "df['s_f']=df['s']/df['t']\n",
    "df['b_f']=df['b']/df['t']\n",
    "df['n']=-np.log2(df['s_f'])"
   ]
  },
  {
   "cell_type": "code",
   "execution_count": 9,
   "id": "34eb29c9-9278-4213-900b-455b109992ad",
   "metadata": {},
   "outputs": [
    {
     "data": {
      "image/png": "[encoded data removed]",
      "text/plain": [
       "<Figure size 360x360 with 1 Axes>"
      ]
     },
     "metadata": {
      "needs_background": "light"
     },
     "output_type": "display_data"
    }
   ],
   "source": [
    "plt.rc('font',family='helvetica')\n",
    "plt.figure(figsize=(5,5))\n",
    "plt.hist(df['s_f'],linestyle='--',bins=np.logspace(-6,-1,base=2,num=6),edgecolor='black',linewidth=3,color='cyan')\n",
    "plt.xlabel(r'$\\frac{S_{daughter}}{S_{mother}}$',fontsize=25)\n",
    "plt.ylabel('Count',fontsize=20)\n",
    "# plt.xlim([0.01,1])\n",
    "plt.xticks(fontsize=20)\n",
    "plt.yticks(fontsize=20)\n",
    "# plt.text(2**-6,5,'n=28',fontsize=20)\n",
    "plt.xscale('log',base=2)\n",
    "plt.tight_layout()\n",
    "\n",
    "plt.savefig('/Users/piyushnanda/Documents/PhD_MurrayLab/EMC/Figures/Final/Breaking_Dynamics_Fraction_exp.jpg',dpi=1200)"
   ]
  },
  {
   "cell_type": "code",
   "execution_count": 40,
   "id": "280433f3-379a-4cd5-98cf-1e63fe71684e",
   "metadata": {},
   "outputs": [],
   "source": [
    "a,ratios=np.histogram(df['s_f'],bins=np.logspace(-6,-1,base=2,num=6))\n",
    "d=pd.DataFrame({'Freq':a})\n",
    "d.to_csv('/Users/piyushnanda/Documents/PhD_MurrayLab/EMC/Analysis/Ratio/ratio_exp.csv')"
   ]
  },
  {
   "cell_type": "code",
   "execution_count": null,
   "id": "5831b67b-c37d-49af-a4f4-c8960cd49533",
   "metadata": {},
   "outputs": [],
   "source": []
  }
 ],
 "metadata": {
  "kernelspec": {
   "display_name": "Python 3",
   "language": "python",
   "name": "python3"
  },
  "language_info": {
   "codemirror_mode": {
    "name": "ipython",
    "version": 3
   },
   "file_extension": ".py",
   "mimetype": "text/x-python",
   "name": "python",
   "nbconvert_exporter": "python",
   "pygments_lexer": "ipython3",
   "version": "3.8.8"
  }
 },
 "nbformat": 4,
 "nbformat_minor": 5
}
