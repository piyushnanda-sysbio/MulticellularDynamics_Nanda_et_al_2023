{
 "cells": [
  {
   "cell_type": "markdown",
   "id": "24fe0cc2-f884-4468-b69d-bdab8a926642",
   "metadata": {},
   "source": [
    "### In this version of the model, cells are randomly assigned one of the two states having different growth rates\n",
    "\n",
    "#### Red refers to cells expressing RFP and yellow referes to cells expressing YFP. Cells are randomly assigned identities without any lineage history. In an alternate model, we will assign cell type based on lineage history. "
   ]
  },
  {
   "cell_type": "code",
   "execution_count": 1,
   "id": "40cdc28f-0c3d-4854-932e-fa29e7cd19dc",
   "metadata": {},
   "outputs": [],
   "source": [
    "import networkx as nx\n",
    "import numpy as np\n",
    "import pandas as pd\n",
    "import seaborn as sns\n",
    "import matplotlib.pyplot as plt \n",
    "import scipy as sp\n",
    "from pylab import *\n",
    "from networkx.drawing.nx_pydot import graphviz_layout\n",
    "from networkx.algorithms import bipartite\n",
    "import random as rd\n",
    "from collections import Counter\n",
    "import pylab \n",
    "import scipy.stats as stats\n",
    "import warnings\n",
    "import matplotlib.animation as animation\n",
    "\n",
    "warnings.filterwarnings('ignore')\n"
   ]
  },
  {
   "cell_type": "code",
   "execution_count": 2,
   "id": "35926eb0-732f-4d8f-a99c-e61ee7f3a7fc",
   "metadata": {},
   "outputs": [],
   "source": [
    "#Function for drawing radial graphs in NetworkX library\n",
    "def hierarchy_pos(G, root=None, width=1., vert_gap = 0.2, vert_loc = 0, xcenter = 0.5):\n",
    "\n",
    "    if not nx.is_tree(G):\n",
    "        raise TypeError('cannot use hierarchy_pos on a graph that is not a tree')\n",
    "\n",
    "    if root is None:\n",
    "        if isinstance(G, nx.DiGraph):\n",
    "            root = next(iter(nx.topological_sort(G)))  #allows back compatibility with nx version 1.11\n",
    "        else:\n",
    "            root = random.choice(list(G.nodes))\n",
    "\n",
    "    def _hierarchy_pos(G, root, width=1., vert_gap = 0.2, vert_loc = 0, xcenter = 0.5, pos = None, parent = None):\n",
    "    \n",
    "        if pos is None:\n",
    "            pos = {root:(xcenter,vert_loc)}\n",
    "        else:\n",
    "            pos[root] = (xcenter, vert_loc)\n",
    "        children = list(G.neighbors(root))\n",
    "        if not isinstance(G, nx.DiGraph) and parent is not None:\n",
    "            children.remove(parent)  \n",
    "        if len(children)!=0:\n",
    "            dx = width/len(children) \n",
    "            nextx = xcenter - width/2 - dx/2\n",
    "            for child in children:\n",
    "                nextx += dx\n",
    "                pos = _hierarchy_pos(G,child, width = dx, vert_gap = vert_gap, \n",
    "                                    vert_loc = vert_loc-vert_gap, xcenter=nextx,\n",
    "                                    pos=pos, parent = root)\n",
    "        return pos\n",
    "\n",
    "            \n",
    "    return _hierarchy_pos(G, root, width, vert_gap, vert_loc, xcenter)"
   ]
  },
  {
   "cell_type": "code",
   "execution_count": 3,
   "id": "b9dcfe73-1bf4-404f-bd79-35133f0320a3",
   "metadata": {},
   "outputs": [],
   "source": [
    "#Counting the number of clusters and composition of cluster (cells per cluster)\n",
    "def module_counter():\n",
    "    global g\n",
    "    cluster_counter=0\n",
    "    for e in g.edges():\n",
    "        if(g.edges[e[0],e[1]]['break']==0):\n",
    "            cluster_counter=cluster_counter+1\n",
    "            for n in g.nodes():\n",
    "                if(n.endswith(e[1][1:])):\n",
    "                    g.nodes[n]['clust']=str(cluster_counter)"
   ]
  },
  {
   "cell_type": "code",
   "execution_count": 4,
   "id": "362976aa-2248-4bf1-8f17-6d91b795fa8a",
   "metadata": {},
   "outputs": [],
   "source": [
    "#Calculation of Kullback-Leibler Divergence between the experimental and model derived distribution\n",
    "def KL(a, b):\n",
    "    a = np.asarray(a, dtype=np.float)\n",
    "    b = np.asarray(b, dtype=np.float)\n",
    "    return np.sum(np.where(a != 0, a * np.log(a / b), 0))"
   ]
  },
  {
   "cell_type": "code",
   "execution_count": 5,
   "id": "fd4c829b-a330-4db0-8653-250900238312",
   "metadata": {},
   "outputs": [],
   "source": [
    "#Count the distribution of number of cells per cluster and also fraction of red/yellow cells\n",
    "def count_freq(g):\n",
    "    clust_information=[]\n",
    "    ctype=[]\n",
    "    for n in g.nodes():\n",
    "        clust_information.append(g.nodes[n]['clust'])\n",
    "        ctype.append(g.nodes[n]['type'])\n",
    "    return clust_information,ctype"
   ]
  },
  {
   "cell_type": "code",
   "execution_count": 6,
   "id": "53719d94-6a52-499a-95de-dec8f8ded576",
   "metadata": {},
   "outputs": [],
   "source": [
    "def graph_snap(t,sim_time):\n",
    "    for n in g.nodes():\n",
    "        g.nodes[n]['snap_time']=int(str(n)[1])\n",
    "    for e in g.edges():\n",
    "        if(g.edges[e[0],e[1]]['break']==1):\n",
    "            g.edges[e[0],e[1]]['snap_time']=int(e[1][1])-1\n",
    "        else:\n",
    "            g.edges[e[0],e[1]]['snap_time']=sim_time"
   ]
  },
  {
   "cell_type": "code",
   "execution_count": 7,
   "id": "a71b8e1f-fa9a-49f8-afd5-186cd3aa793b",
   "metadata": {},
   "outputs": [],
   "source": [
    "\n",
    "def break_cluster(t,max_node):\n",
    "    global g\n",
    "    cluster_counter=0\n",
    "    degree_list=[]\n",
    "    \n",
    "    for e in g.edges():\n",
    "        if(t>=g.edges[e[0],e[1]]['t_break'] and (g.edges[e[0],e[1]]['break']!=0)):\n",
    "            g.edges[e[0],e[1]]['break']=0\n",
    "\n",
    "\n",
    "    node_list=[node for node in g.nodes()]\n",
    "    for node in node_list:\n",
    "        edges_temp=g.edges(node)\n",
    "        break_list=[g.edges[ed[0],ed[1]]['break'] for ed in edges_temp]\n",
    "        degree_list.append(sum(break_list))\n",
    "    max_nodes = [node_list[i] for i, x in enumerate(degree_list) if x == max(degree_list)]\n",
    "    max_degrees = [degree_list[i] for i, x in enumerate(degree_list) if x == max(degree_list)]\n",
    "    \n",
    "    for i,node in enumerate(max_nodes):\n",
    "        if(max_degrees[i]>=max_node):\n",
    "            edges=[edge for edge in g.edges(node) if g.edges[edge[0],edge[1]]['break']!=0]\n",
    "            edge_bt=[g.edges[e[0],e[1]]['t_break'] for e in edges]\n",
    "            for k,bt in enumerate(edge_bt): \n",
    "                if(np.round(bt,0)>=t):\n",
    "                    edge_tbb=edges[k]\n",
    "                    g.edges[edge_tbb[0],edge_tbb[1]]['break']=0    \n",
    "\n",
    "         \n",
    "\n",
    "        "
   ]
  },
  {
   "cell_type": "code",
   "execution_count": 8,
   "id": "b44bce30-49a4-49d7-a98d-3d43284a3337",
   "metadata": {},
   "outputs": [],
   "source": [
    "def doubling_time_generator():\n",
    "    x1=np.random.normal(2,0.001,100)\n",
    "    x2=np.random.normal(4,0.001,100)\n",
    "    x_bim=np.concatenate([x1,x2])\n",
    "    return np.round(np.random.choice(x_bim)).astype('int')"
   ]
  },
  {
   "cell_type": "code",
   "execution_count": 9,
   "id": "16567922-7b80-4da6-b665-aee943bdc794",
   "metadata": {},
   "outputs": [],
   "source": [
    "def grow(t,mbt,p,ctype):\n",
    "    global g\n",
    "    \n",
    "    nextg=g.copy()\n",
    "    for n in g.nodes():\n",
    "        if(g.nodes[str(n)]['type']==ctype):\n",
    "            new_node='Y'+str(t)+'_'+str(n)[1:] #Naming daughter cells to track lineage information\n",
    "            nextg.add_edge(str(n),new_node) #Growth\n",
    "            nextg.nodes[new_node]['clust']=nextg.nodes[str(n)]['clust'] #Inherit the cluster information\n",
    "            if(nextg.nodes[str(n)]['type']=='red'):\n",
    "                nextg.nodes[new_node]['type']='red'\n",
    "            else:\n",
    "                nextg.nodes[new_node]['type']=np.random.choice(['red','yellow'],p=[p,1-p])\n",
    "                \n",
    "            nextg.edges[str(n),new_node]['break']=1\n",
    "            nextg.edges[str(n),new_node]['t_break']=t+np.random.exponential(scale=mbt)\n",
    "    g=nextg\n",
    "\n"
   ]
  },
  {
   "cell_type": "code",
   "execution_count": 10,
   "id": "65d5ee71-5f44-4f46-b99d-86f725b4dcd8",
   "metadata": {},
   "outputs": [],
   "source": [
    "def init_system(p):\n",
    "    global g\n",
    "    g=nx.Graph() #Initialization \n",
    "    g.add_node('Y0') #Mother yeast cell \n",
    "    g.nodes['Y0']['clust']='0'\n",
    "    g.nodes['Y0']['type']='yellow'\n",
    "    nextg=g.copy()"
   ]
  },
  {
   "cell_type": "code",
   "execution_count": 11,
   "id": "2ba4a14b-b1f8-4d80-8db9-be9d5f7df648",
   "metadata": {},
   "outputs": [],
   "source": [
    "#Main function to call other functions associated with dissociation of the cluster, counting of cells per custer\n",
    "#p is the conversion rate from yellow to red\n",
    "#dt1 and dt2 are doubling times for yellow and red\n",
    "def clust_form_and_break(sim_time,max_node,mbt,p,dt1,d):\n",
    "    global g\n",
    "    \n",
    "    init_system(p)\n",
    "    \n",
    "    for t in range(sim_time):\n",
    "        if(int(t%dt1)==0): \n",
    "            grow(t,mbt,p,'yellow')\n",
    "        if(int(t%(dt1+d))==0):\n",
    "            grow(t,mbt,p,'red')\n",
    "        break_cluster(t,max_node)    \n",
    "    module_counter()\n",
    "    \n",
    "    return g"
   ]
  },
  {
   "cell_type": "markdown",
   "id": "5199c1ec-1169-415f-895c-4d1b896322b4",
   "metadata": {},
   "source": [
    "# eEMC012 (Figure 6)"
   ]
  },
  {
   "cell_type": "markdown",
   "id": "cc9845fc-662a-43dd-9927-575f3df713b6",
   "metadata": {},
   "source": [
    "### Stable fraction vs Doubling time difference"
   ]
  },
  {
   "cell_type": "code",
   "execution_count": 12,
   "id": "f1ab39e7-f3d3-4e17-a97e-35139fc96497",
   "metadata": {},
   "outputs": [
    {
     "data": {
      "image/png": "[encoded data removed]",
      "text/plain": [
       "<Figure size 360x360 with 1 Axes>"
      ]
     },
     "metadata": {
      "needs_background": "light"
     },
     "output_type": "display_data"
    }
   ],
   "source": [
    "mix_array=[]\n",
    "diff_array=[]\n",
    "mix=[]\n",
    "size=[]\n",
    "for d in range(12): \n",
    "\n",
    "    p=0.15 #Conversion Rate\n",
    "    kn=3 #Kissing Number\n",
    "    diff=d/2 #Doubling time difference\n",
    "    \n",
    "    for i in range(1):\n",
    "        g=clust_form_and_break(20,kn,100,p,2,diff)\n",
    "        count,ctype=count_freq(g)\n",
    "        cells=pd.DataFrame({'Cluster':count,'Type':ctype})\n",
    "        cells['Identity']=cells['Type'].apply(lambda x:1 if x=='yellow' else 0)\n",
    "\n",
    "        fracs=[]\n",
    "        clust_size=[]\n",
    "        for m in cells['Cluster'].unique():\n",
    "            fracs.append(sum(cells.loc[cells['Cluster']==m,'Identity'])/len(cells.loc[cells['Cluster']==m,'Identity']))\n",
    "            clust_size.append(len(cells.loc[cells['Cluster']==m,'Identity']))\n",
    "\n",
    "        frac_arr=np.array(fracs)\n",
    "        clust_arr=np.array(clust_size)\n",
    "\n",
    "        frac_arr_red=sum(frac_arr==1.0)\n",
    "        frac_arr_yellow=sum(frac_arr==0.0)\n",
    "        frac_arr_mix=len(frac_arr)-frac_arr_red-frac_arr_yellow\n",
    "        mix.append(frac_arr_mix/len(frac_arr))\n",
    "    \n",
    "    mix_array.append(np.mean(mix))\n",
    "    diff_array.append(d/2)\n",
    "\n",
    "\n",
    "\n",
    "plt.rc('font',family='serif')\n",
    "plt.figure(figsize=(5,5))\n",
    "plt.scatter(diff_array,mix_array)\n",
    "plt.plot(diff_array,mix_array,color='red')\n",
    "plt.xlabel(r'∆T$_{d}$',fontsize=18)\n",
    "plt.ylabel(r'Stable fraction',fontsize=18)\n",
    "plt.xticks(fontsize=18)\n",
    "plt.yticks(fontsize=18)\n",
    "plt.tight_layout()\n",
    "\n",
    "# plt.savefig('/Users/piyushnanda/Documents/PhD_MurrayLab/EMC/Figures/Final/Fraction_vs_delt.jpg',dpi=600)"
   ]
  },
  {
   "cell_type": "markdown",
   "id": "3a5a274c-ea7f-4f29-add7-c624f3c7635d",
   "metadata": {},
   "source": [
    "## Stable fraction vs Kissing Number Difference"
   ]
  },
  {
   "cell_type": "code",
   "execution_count": 13,
   "id": "49d4e09f-8f86-41a7-9345-f705b15e6a9d",
   "metadata": {},
   "outputs": [],
   "source": [
    "p=0.1\n",
    "u=1.5\n",
    "\n",
    "kiss=[]\n",
    "mix=[]\n",
    "red=[]\n",
    "yellow=[]\n",
    "size=[]\n",
    "mix_array0=[]\n",
    "red_array0=[]\n",
    "yellow_array0=[]\n",
    "\n",
    "\n",
    "for kn in range(2,11): \n",
    "\n",
    "#     p=0.125 #Conversion Rate\n",
    "    diff=0.0 #Doubling time difference\n",
    "    \n",
    "    for i in range(3):\n",
    "        g=clust_form_and_break(int(10*u),kn,100,p,u,diff)\n",
    "        count,ctype=count_freq(g)\n",
    "        cells=pd.DataFrame({'Cluster':count,'Type':ctype})\n",
    "        cells['Identity']=cells['Type'].apply(lambda x:1 if x=='yellow' else 0)\n",
    "\n",
    "        fracs=[]\n",
    "        clust_size=[]\n",
    "        for m in cells['Cluster'].unique():\n",
    "            fracs.append(sum(cells.loc[cells['Cluster']==m,'Identity'])/len(cells.loc[cells['Cluster']==m,'Identity']))\n",
    "            clust_size.append(len(cells.loc[cells['Cluster']==m,'Identity']))\n",
    "\n",
    "        frac_arr=np.array(fracs)\n",
    "        clust_arr=np.mean(clust_size)\n",
    "\n",
    "        frac_arr_red=sum(frac_arr==1.0)\n",
    "        frac_arr_yellow=sum(frac_arr==0.0)\n",
    "        frac_arr_mix=len(frac_arr)-frac_arr_red-frac_arr_yellow\n",
    "        mix.append(frac_arr_mix/len(frac_arr))\n",
    "        red.append(frac_arr_red/len(frac_arr))\n",
    "        yellow.append(frac_arr_yellow/len(frac_arr))\n",
    "        \n",
    "    size.append(np.mean(clust_arr))\n",
    "    mix_array0.append(np.mean(mix))\n",
    "    red_array0.append(np.mean(red))\n",
    "    yellow_array0.append(np.mean(yellow))\n",
    "    kiss.append(int(kn))\n",
    "\n"
   ]
  },
  {
   "cell_type": "code",
   "execution_count": 16,
   "id": "858764ce-389a-4554-a5ff-e9ddad1ad003",
   "metadata": {},
   "outputs": [
    {
     "data": {
      "image/png": "[encoded data removed]",
      "text/plain": [
       "<Figure size 504x288 with 1 Axes>"
      ]
     },
     "metadata": {
      "needs_background": "light"
     },
     "output_type": "display_data"
    }
   ],
   "source": [
    "a=0.8\n",
    "plt.rc('font',family='helvetica')\n",
    "plt.figure(figsize=(7,4))\n",
    "plt.bar(kiss, red_array0, color='blue',edgecolor='black',linewidth=2,linestyle='--',alpha=a)\n",
    "plt.bar(kiss, mix_array0, bottom=red_array0, color='green',edgecolor='black',linewidth=2,linestyle='--',alpha=a)\n",
    "plt.bar(kiss, yellow_array0, bottom=np.array(mix_array0)+np.array(red_array0), color='greenyellow',edgecolor='black',linewidth=2,linestyle='--',alpha=a)\n",
    "plt.xlabel(r'Kissing Number',fontsize=18)\n",
    "plt.ylabel(r'Fraction',fontsize=18)\n",
    "plt.xticks(ticks=[2,3,4,5,6,7,8,9,10],fontsize=18)\n",
    "plt.yticks(fontsize=18)\n",
    "plt.title('$\\mu_{r}=1$',fontsize=18)\n",
    "plt.tight_layout()\n",
    "plt.savefig('/Users/piyushnanda/Documents/PhD_MurrayLab/EMC/Figures/Final/low_diff_fraction.jpg',dpi=1000)"
   ]
  },
  {
   "cell_type": "code",
   "execution_count": 15,
   "id": "80320b00-4687-4238-99d7-6284a53d80ac",
   "metadata": {},
   "outputs": [],
   "source": [
    "kiss=[]\n",
    "mix=[]\n",
    "red=[]\n",
    "yellow=[]\n",
    "size=[]\n",
    "mix_array2=[]\n",
    "red_array2=[]\n",
    "yellow_array2=[]\n",
    "\n",
    "for kn in range(2,11): \n",
    "\n",
    "    p=0.125 #Conversion Rate\n",
    "    diff=0.7 #Doubling time difference\n",
    "    \n",
    "    for i in range(3):\n",
    "        g=clust_form_and_break(int(7*u),kn,16,p,u,diff)\n",
    "        count,ctype=count_freq(g)\n",
    "        cells=pd.DataFrame({'Cluster':count,'Type':ctype})\n",
    "        cells['Identity']=cells['Type'].apply(lambda x:1 if x=='yellow' else 0)\n",
    "\n",
    "        fracs=[]\n",
    "        clust_size=[]\n",
    "        for m in cells['Cluster'].unique():\n",
    "            fracs.append(sum(cells.loc[cells['Cluster']==m,'Identity'])/len(cells.loc[cells['Cluster']==m,'Identity']))\n",
    "            clust_size.append(len(cells.loc[cells['Cluster']==m,'Identity']))\n",
    "\n",
    "        frac_arr=np.array(fracs)\n",
    "        clust_arr=np.mean(clust_size)\n",
    "\n",
    "        frac_arr_red=sum(frac_arr==1.0)\n",
    "        frac_arr_yellow=sum(frac_arr==0.0)\n",
    "        frac_arr_mix=len(frac_arr)-frac_arr_red-frac_arr_yellow\n",
    "        mix.append(frac_arr_mix/len(frac_arr))\n",
    "        red.append(frac_arr_red/len(frac_arr))\n",
    "        yellow.append(frac_arr_yellow/len(frac_arr))\n",
    "\n",
    "    size.append(np.mean(clust_arr))\n",
    "    mix_array2.append(np.mean(mix))\n",
    "    red_array2.append(np.mean(red))\n",
    "    yellow_array2.append(np.mean(yellow))\n",
    "    kiss.append(int(kn))"
   ]
  },
  {
   "cell_type": "code",
   "execution_count": 17,
   "id": "01dd497d-ed25-4b3b-8705-07772b72668c",
   "metadata": {},
   "outputs": [
    {
     "data": {
      "image/png": "[encoded data removed]",
      "text/plain": [
       "<Figure size 504x288 with 1 Axes>"
      ]
     },
     "metadata": {
      "needs_background": "light"
     },
     "output_type": "display_data"
    }
   ],
   "source": [
    "a=0.8\n",
    "plt.rc('font',family='helvetica')\n",
    "plt.figure(figsize=(7,4))\n",
    "plt.bar(kiss, red_array2, color='blue',edgecolor='black',linewidth=2,linestyle='--',alpha=a)\n",
    "plt.bar(kiss, mix_array2, bottom=red_array2, color='green',edgecolor='black',linewidth=2,linestyle='--',alpha=a)\n",
    "plt.bar(kiss, yellow_array2, bottom=np.array(mix_array2)+np.array(red_array2), color='greenyellow',edgecolor='black',linewidth=2,linestyle='--',alpha=a)\n",
    "plt.xlabel(r'Kissing Number',fontsize=18)\n",
    "plt.ylabel(r'Fraction',fontsize=18)\n",
    "plt.xticks(ticks=[2,3,4,5,6,7,8,9,10],fontsize=18)\n",
    "plt.yticks(fontsize=18)\n",
    "plt.title('$\\mu_{r}=1.42$',fontsize=18)\n",
    "plt.tight_layout()\n",
    "plt.savefig('/Users/piyushnanda/Documents/PhD_MurrayLab/EMC/Figures/Final/high_diff_fraction.jpg',dpi=1000)"
   ]
  }
 ],
 "metadata": {
  "kernelspec": {
   "display_name": "Python 3 (ipykernel)",
   "language": "python",
   "name": "python3"
  },
  "language_info": {
   "codemirror_mode": {
    "name": "ipython",
    "version": 3
   },
   "file_extension": ".py",
   "mimetype": "text/x-python",
   "name": "python",
   "nbconvert_exporter": "python",
   "pygments_lexer": "ipython3",
   "version": "3.11.6"
  }
 },
 "nbformat": 4,
 "nbformat_minor": 5
}
