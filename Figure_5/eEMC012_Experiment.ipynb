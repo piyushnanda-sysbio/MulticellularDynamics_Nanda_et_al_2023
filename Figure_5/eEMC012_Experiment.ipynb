{
 "cells": [
  {
   "cell_type": "markdown",
   "id": "b58341c8-b173-4e4d-9470-41abd76a55b3",
   "metadata": {},
   "source": [
    "## Final: Rep1 10262022"
   ]
  },
  {
   "cell_type": "code",
   "execution_count": 2,
   "id": "ccc19c89-80ef-43bd-86ce-2aa0fae2f1a5",
   "metadata": {},
   "outputs": [],
   "source": [
    "import pandas as pd\n",
    "import numpy as np\n",
    "import scipy.stats as st \n",
    "import matplotlib.pyplot as plt\n",
    "import seaborn as sns\n",
    "import os\n",
    "from FlowCytometryTools import FCMeasurement\n",
    "from skimage.filters import threshold_mean\n",
    "from scipy import stats\n",
    "from scipy.stats import hypergeom\n",
    "import statsmodels\n",
    "from statsmodels.sandbox.stats.multicomp import multipletests\n",
    "from sklearn import preprocessing\n",
    "\n",
    "import warnings\n",
    "\n",
    "warnings.filterwarnings('ignore')\n",
    "\n",
    "%matplotlib inline"
   ]
  },
  {
   "cell_type": "code",
   "execution_count": 3,
   "id": "9218a84c-8b31-4fef-9d1b-b236a624908c",
   "metadata": {},
   "outputs": [
    {
     "name": "stdout",
     "output_type": "stream",
     "text": [
      "/Users/piyushnanda/Documents/PhD_MurrayLab/EMC/Data/eEMC012/eEMC012_Fraction\n"
     ]
    }
   ],
   "source": [
    "cd /Users/piyushnanda/Documents/PhD_MurrayLab/EMC/Data/eEMC012/eEMC012_Fraction/"
   ]
  },
  {
   "cell_type": "code",
   "execution_count": 4,
   "id": "c160b659-e619-4041-95db-4eb874544d50",
   "metadata": {},
   "outputs": [],
   "source": [
    "files_cts1=np.array(sorted(os.listdir('.'))[0:12]).reshape(3,4)\n",
    "files_bud2=np.array(sorted(os.listdir('.'))[12:24]).reshape(3,4)"
   ]
  },
  {
   "cell_type": "code",
   "execution_count": 5,
   "id": "dcfd58de-be23-45ed-a9b0-58d41bc6dff9",
   "metadata": {},
   "outputs": [],
   "source": [
    "def fcs_reader(f):\n",
    "    fsc_vals=np.array(FCMeasurement(ID=\"\",datafile=f)['FSC-A'])[0:3000]\n",
    "    yellow_vals=np.array(FCMeasurement(ID=\"\",datafile=f)['FITC-A'])[0:3000]\n",
    "    red_vals=np.array(FCMeasurement(ID=\"\",datafile=f)['PE Texas Red-A'])[0:3000]\n",
    "    return fsc_vals,yellow_vals,red_vals"
   ]
  },
  {
   "cell_type": "code",
   "execution_count": 6,
   "id": "df6de54a-9e2f-4de6-88b3-dce2db804a23",
   "metadata": {},
   "outputs": [],
   "source": [
    "r_c=[]\n",
    "y_c=[]\n",
    "m_c=[]\n",
    "for j in range(4):\n",
    "    fsc_raw=np.array(fcs_reader(files_cts1[0][j])[0])\n",
    "    yellow_raw=np.array(fcs_reader(files_cts1[0][j])[1])\n",
    "    red_raw=np.array(fcs_reader(files_cts1[0][j])[2])\n",
    "    red=red_raw[(fsc_raw>0)]/fsc_raw[(fsc_raw>0)]\n",
    "    yellow=yellow_raw[(fsc_raw>0)]/fsc_raw[(fsc_raw>0)]\n",
    "    fsc=fsc_raw[(fsc_raw>0)]\n",
    "    cols=['red' if r>0.01 and y<0.05 else 'blue' for r,y in zip(red,yellow)]\n",
    "\n",
    "#     plt.figure(figsize=(4,4))\n",
    "#     plt.scatter(red,yellow,s=0.5)\n",
    "#     plt.plot([0,0.5],[0.04,0.04],linestyle='--',color='yellow',linewidth=2)\n",
    "#     plt.plot([0.015,0.015],[0,1.5],linestyle='--',color='red',linewidth=2)\n",
    "#     plt.xlim(-0.01,0.5)\n",
    "#     plt.ylim(0,1.2)\n",
    "#     plt.tight_layout()\n",
    "\n",
    "    r_f=sum(yellow<=0.04)/len(red)\n",
    "    y_f=sum(red<=0.015)/len(red)\n",
    "    m_f=1-y_f-r_f\n",
    "#     print('Germline:',r_f)\n",
    "#     print('Somatic:',y_f)\n",
    "#     print('Mix:',m_f)\n",
    "    \n",
    "    r_c.append(r_f)\n",
    "    y_c.append(y_f)\n",
    "    m_c.append(m_f)"
   ]
  },
  {
   "cell_type": "code",
   "execution_count": 7,
   "id": "5b4e6670-55e8-453d-b3c6-26086b275ff0",
   "metadata": {},
   "outputs": [],
   "source": [
    "r_b=[]\n",
    "y_b=[]\n",
    "m_b=[]\n",
    "for j in range(4):\n",
    "    fsc_raw=np.array(fcs_reader(files_bud2[0][j])[0])\n",
    "    yellow_raw=np.array(fcs_reader(files_bud2[0][j])[1])\n",
    "    red_raw=np.array(fcs_reader(files_bud2[0][j])[2])\n",
    "    red=red_raw[(fsc_raw>0)]/fsc_raw[(fsc_raw>0)]\n",
    "    yellow=yellow_raw[(fsc_raw>0)]/fsc_raw[(fsc_raw>0)]\n",
    "    fsc=fsc_raw[(fsc_raw>0)]\n",
    "    cols=['red' if r>0.01 and y<0.05 else 'blue' for r,y in zip(red,yellow)]\n",
    "\n",
    "#     plt.figure(figsize=(4,4))\n",
    "#     plt.scatter(red,yellow,s=0.5)\n",
    "#     plt.plot([0,0.5],[0.04,0.04],linestyle='--',color='yellow',linewidth=2)\n",
    "#     plt.plot([0.015,0.015],[0,1.5],linestyle='--',color='red',linewidth=2)\n",
    "#     plt.xlim(-0.01,0.5)\n",
    "#     plt.ylim(0,1.2)\n",
    "#     plt.tight_layout()\n",
    "\n",
    "    r_f=sum(yellow<=0.04)/len(red)\n",
    "    y_f=sum(red<=0.015)/len(red)\n",
    "    m_f=1-y_f-r_f\n",
    "#     print('Germline:',r_f)\n",
    "#     print('Somatic:',y_f)\n",
    "#     print('Mix:',m_f)\n",
    "    r_b.append(r_f)\n",
    "    y_b.append(y_f)\n",
    "    m_b.append(m_f)"
   ]
  },
  {
   "cell_type": "code",
   "execution_count": 8,
   "id": "95468890-956d-4c57-a62f-ae6dea2a93cf",
   "metadata": {},
   "outputs": [],
   "source": [
    "r_c.extend(r_b)\n",
    "y_c.extend(y_b)\n",
    "m_c.extend(m_b)\n",
    "\n",
    "r_arr=np.array(r_c).reshape(2,4).transpose().reshape(8,1)\n",
    "y_arr=np.array(y_c).reshape(2,4).transpose().reshape(8,1)\n",
    "m_arr=np.array(m_c).reshape(2,4).transpose().reshape(8,1)"
   ]
  },
  {
   "cell_type": "code",
   "execution_count": 9,
   "id": "84d69a81-9364-4adc-af54-9a47643d36bd",
   "metadata": {},
   "outputs": [
    {
     "data": {
      "image/png": "[encoded data removed]",
      "text/plain": [
       "<Figure size 432x288 with 1 Axes>"
      ]
     },
     "metadata": {
      "needs_background": "light"
     },
     "output_type": "display_data"
    }
   ],
   "source": [
    "a=0.8\n",
    "plt.rc('font',family='helvetica')\n",
    "plt.figure(figsize=(6,4))\n",
    "plt.bar([0,1,2,3,4,5,6,7], r_c, color='blue',edgecolor='black',linewidth=2,linestyle='--',alpha=a)\n",
    "plt.bar([0,1,2,3,4,5,6,7], m_c, bottom=r_c, color='green',edgecolor='black',linewidth=2,linestyle='--',alpha=a)\n",
    "plt.bar([0,1,2,3,4,5,6,7], y_c, bottom=np.array(m_c)+np.array(r_c), color='greenyellow',edgecolor='black',linewidth=2,linestyle='--',alpha=a)\n",
    "# plt.xlabel(r'Kissing Number',fontsize=18)\n",
    "plt.ylabel(r'Fraction',fontsize=18)\n",
    "plt.xticks([],fontsize=18)\n",
    "plt.yticks(fontsize=18)\n",
    "# plt.ylim(0,1.1)\n",
    "plt.tight_layout()\n",
    "plt.savefig('/Users/piyushnanda/Documents/PhD_MurrayLab/EMC/Figures/Final/all_fraction.jpg')"
   ]
  },
  {
   "cell_type": "code",
   "execution_count": null,
   "id": "ac74115b-4642-4b57-8c56-861abe320a90",
   "metadata": {},
   "outputs": [],
   "source": []
  }
 ],
 "metadata": {
  "kernelspec": {
   "display_name": "Python 3",
   "language": "python",
   "name": "python3"
  },
  "language_info": {
   "codemirror_mode": {
    "name": "ipython",
    "version": 3
   },
   "file_extension": ".py",
   "mimetype": "text/x-python",
   "name": "python",
   "nbconvert_exporter": "python",
   "pygments_lexer": "ipython3",
   "version": "3.8.8"
  }
 },
 "nbformat": 4,
 "nbformat_minor": 5
}
