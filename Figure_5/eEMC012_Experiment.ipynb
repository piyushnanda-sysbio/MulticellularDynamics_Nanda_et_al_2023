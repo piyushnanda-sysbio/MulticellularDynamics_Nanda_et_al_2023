{
 "cells": [
  {
   "cell_type": "markdown",
   "id": "b58341c8-b173-4e4d-9470-41abd76a55b3",
   "metadata": {},
   "source": [
    "## Final: Rep1 10262022"
   ]
  },
  {
   "cell_type": "code",
   "execution_count": 1,
   "id": "ccc19c89-80ef-43bd-86ce-2aa0fae2f1a5",
   "metadata": {},
   "outputs": [
    {
     "name": "stdout",
     "output_type": "stream",
     "text": [
      "❗ You are running 3.11.6\n",
      "Only python versions 3.7~3.10 are currently tested, use at your own risk.\n"
     ]
    }
   ],
   "source": [
    "import pandas as pd\n",
    "import numpy as np\n",
    "import scipy.stats as st \n",
    "import matplotlib.pyplot as plt\n",
    "import seaborn as sns\n",
    "import os\n",
    "import readfcs\n",
    "# from skimage.filters import threshold_mean\n",
    "from scipy import stats\n",
    "from scipy.stats import hypergeom\n",
    "import statsmodels\n",
    "from statsmodels.sandbox.stats.multicomp import multipletests\n",
    "# from sklearn import preprocessing\n",
    "\n",
    "import warnings\n",
    "\n",
    "warnings.filterwarnings('ignore')\n",
    "\n",
    "%matplotlib inline"
   ]
  },
  {
   "cell_type": "code",
   "execution_count": 2,
   "id": "9218a84c-8b31-4fef-9d1b-b236a624908c",
   "metadata": {},
   "outputs": [
    {
     "name": "stdout",
     "output_type": "stream",
     "text": [
      "/Users/piyushnanda/Documents/PhD_MurrayLab/EMC/Data/eEMC012/eEMC012_Fraction\n"
     ]
    }
   ],
   "source": [
    "cd /Users/piyushnanda/Documents/PhD_MurrayLab/EMC/Data/eEMC012/eEMC012_Fraction/"
   ]
  },
  {
   "cell_type": "code",
   "execution_count": 3,
   "id": "c160b659-e619-4041-95db-4eb874544d50",
   "metadata": {},
   "outputs": [],
   "source": [
    "files_cts1=np.array(sorted(os.listdir('.'))[0:12]).reshape(3,4)\n",
    "files_bud2=np.array(sorted(os.listdir('.'))[12:24]).reshape(3,4)"
   ]
  },
  {
   "cell_type": "code",
   "execution_count": 4,
   "id": "dcfd58de-be23-45ed-a9b0-58d41bc6dff9",
   "metadata": {},
   "outputs": [],
   "source": [
    "def fcs_reader(f):\n",
    "    data=readfcs.ReadFCS(f).data\n",
    "    fsc_vals=np.array(data['FSC-A'])[0:3000]\n",
    "    yellow_vals=np.array(data['FITC-A'])[0:3000]\n",
    "    red_vals=np.array(data['PE Texas Red-A'])[0:3000]\n",
    "    return fsc_vals,yellow_vals,red_vals"
   ]
  },
  {
   "cell_type": "code",
   "execution_count": 5,
   "id": "f3b5d7bc-da5a-4fe0-af15-6a73e5706113",
   "metadata": {},
   "outputs": [],
   "source": [
    "#number of replicates\n",
    "rep=0"
   ]
  },
  {
   "cell_type": "code",
   "execution_count": 6,
   "id": "df6de54a-9e2f-4de6-88b3-dce2db804a23",
   "metadata": {},
   "outputs": [],
   "source": [
    "r_reps=[]\n",
    "y_reps=[]\n",
    "m_reps=[]\n",
    "\n",
    "\n",
    "for rep in [0,1,2]:\n",
    "    r_c=[]\n",
    "    y_c=[]\n",
    "    m_c=[]\n",
    "    for j in range(4):\n",
    "        fsc_raw=np.array(fcs_reader(files_cts1[rep][j])[0])\n",
    "        yellow_raw=np.array(fcs_reader(files_cts1[rep][j])[1])\n",
    "        red_raw=np.array(fcs_reader(files_cts1[rep][j])[2])\n",
    "        red=red_raw[(fsc_raw>0)]/fsc_raw[(fsc_raw>0)]\n",
    "        yellow=yellow_raw[(fsc_raw>0)]/fsc_raw[(fsc_raw>0)]\n",
    "        fsc=fsc_raw[(fsc_raw>0)]\n",
    "        cols=['red' if r>0.01 and y<0.05 else 'blue' for r,y in zip(red,yellow)]\n",
    "    \n",
    "    #     plt.figure(figsize=(4,4))\n",
    "    #     plt.scatter(red,yellow,s=0.5)\n",
    "    #     plt.plot([0,0.5],[0.04,0.04],linestyle='--',color='yellow',linewidth=2)\n",
    "    #     plt.plot([0.015,0.015],[0,1.5],linestyle='--',color='red',linewidth=2)\n",
    "    #     plt.xlim(-0.01,0.5)\n",
    "    #     plt.ylim(0,1.2)\n",
    "    #     plt.tight_layout()\n",
    "    \n",
    "        r_f=sum(yellow<=0.04)/len(red)\n",
    "        y_f=sum(red<=0.015)/len(red)\n",
    "        m_f=1-y_f-r_f\n",
    "    #     print('Germline:',r_f)\n",
    "    #     print('Somatic:',y_f)\n",
    "    #     print('Mix:',m_f)\n",
    "        \n",
    "        r_c.append(r_f)\n",
    "        y_c.append(y_f)\n",
    "        m_c.append(m_f)\n",
    "    \n",
    "    r_b=[]\n",
    "    y_b=[]\n",
    "    m_b=[]\n",
    "    for j in range(4):\n",
    "        fsc_raw=np.array(fcs_reader(files_bud2[rep][j])[0])\n",
    "        yellow_raw=np.array(fcs_reader(files_bud2[rep][j])[1])\n",
    "        red_raw=np.array(fcs_reader(files_bud2[rep][j])[2])\n",
    "        red=red_raw[(fsc_raw>0)]/fsc_raw[(fsc_raw>0)]\n",
    "        yellow=yellow_raw[(fsc_raw>0)]/fsc_raw[(fsc_raw>0)]\n",
    "        fsc=fsc_raw[(fsc_raw>0)]\n",
    "        cols=['red' if r>0.01 and y<0.05 else 'blue' for r,y in zip(red,yellow)]\n",
    "    \n",
    "    #     plt.figure(figsize=(4,4))\n",
    "    #     plt.scatter(red,yellow,s=0.5)\n",
    "    #     plt.plot([0,0.5],[0.04,0.04],linestyle='--',color='yellow',linewidth=2)\n",
    "    #     plt.plot([0.015,0.015],[0,1.5],linestyle='--',color='red',linewidth=2)\n",
    "    #     plt.xlim(-0.01,0.5)\n",
    "    #     plt.ylim(0,1.2)\n",
    "    #     plt.tight_layout()\n",
    "    \n",
    "        r_f=sum(yellow<=0.04)/len(red)\n",
    "        y_f=sum(red<=0.015)/len(red)\n",
    "        m_f=1-y_f-r_f\n",
    "    #     print('Germline:',r_f)\n",
    "    #     print('Somatic:',y_f)\n",
    "    #     print('Mix:',m_f)\n",
    "        r_b.append(r_f)\n",
    "        y_b.append(y_f)\n",
    "        m_b.append(m_f)\n",
    "    \n",
    "    r_c.extend(r_b)\n",
    "    y_c.extend(y_b)\n",
    "    m_c.extend(m_b)\n",
    "\n",
    "    r_reps.append(r_c)\n",
    "    y_reps.append(y_c)\n",
    "    m_reps.append(m_c)"
   ]
  },
  {
   "cell_type": "code",
   "execution_count": 7,
   "id": "3212425e-1e3b-438e-bbb3-2b1c579f8d47",
   "metadata": {},
   "outputs": [],
   "source": [
    "#Mean\n",
    "r_mean=np.mean(r_reps,axis=0)\n",
    "y_mean=np.mean(y_reps,axis=0)\n",
    "m_mean=np.mean(m_reps,axis=0)\n",
    "\n",
    "#Standard deviation\n",
    "r_std=np.std(r_reps,axis=0)/np.sqrt(3)\n",
    "y_std=np.std(y_reps,axis=0)/np.sqrt(3)\n",
    "m_std=np.std(m_reps,axis=0)/np.sqrt(3)"
   ]
  },
  {
   "cell_type": "markdown",
   "id": "03c0569a-85be-4233-b97d-7d38ce50335b",
   "metadata": {},
   "source": [
    "## All replicates"
   ]
  },
  {
   "cell_type": "code",
   "execution_count": 8,
   "id": "84d69a81-9364-4adc-af54-9a47643d36bd",
   "metadata": {},
   "outputs": [
    {
     "data": {
      "image/png": "[encoded data removed]",
      "text/plain": [
       "<Figure size 600x400 with 1 Axes>"
      ]
     },
     "metadata": {},
     "output_type": "display_data"
    }
   ],
   "source": [
    "a=0.8\n",
    "plt.rc('font',family='helvetica')\n",
    "plt.figure(figsize=(6,4))\n",
    "plt.bar([0,1,2,3,4,5,6,7], r_mean,yerr=r_std, capsize=10,color='blue',edgecolor='black',linewidth=2,linestyle='--',alpha=a)\n",
    "plt.bar([0,1,2,3,4,5,6,7], m_mean, bottom=r_mean,yerr=y_std,capsize=10, color='green',edgecolor='black',linewidth=2,linestyle='--',alpha=a)\n",
    "plt.bar([0,1,2,3,4,5,6,7], y_mean, bottom=np.array(m_mean)+np.array(r_mean),yerr=m_std,capsize=10, color='greenyellow',edgecolor='black',linewidth=2,linestyle='--',alpha=a)\n",
    "# plt.xlabel(r'Kissing Number',fontsize=18)\n",
    "plt.ylabel(r'Fraction',fontsize=18)\n",
    "plt.xticks([],fontsize=18)\n",
    "plt.yticks(fontsize=18)\n",
    "# plt.ylim(0,1.1)\n",
    "plt.tight_layout()\n",
    "plt.savefig('/Users/piyushnanda/Documents/PhD_MurrayLab/EMC/Figures/Final/all_fraction_errorbars.jpg')"
   ]
  },
  {
   "cell_type": "code",
   "execution_count": 45,
   "id": "14dc4fea-ba6c-4718-8603-6f789e87541c",
   "metadata": {},
   "outputs": [
    {
     "data": {
      "text/plain": [
       "<matplotlib.collections.PathCollection at 0x176746cd0>"
      ]
     },
     "execution_count": 45,
     "metadata": {},
     "output_type": "execute_result"
    },
    {
     "data": {
      "image/png": "[encoded data removed]",
      "text/plain": [
       "<Figure size 640x480 with 1 Axes>"
      ]
     },
     "metadata": {},
     "output_type": "display_data"
    }
   ],
   "source": [
    "plt.scatter([0,1,2,3],r_reps[0][0:4],color='black')\n",
    "plt.scatter([0,1,2,3],r_reps[1][0:4],color='black')\n",
    "plt.scatter([0,1,2,3],r_reps[2][0:4],color='black')\n",
    "\n",
    "plt.scatter([0,1,2,3],r_reps[0][4:8],color='blue')\n",
    "plt.scatter([0,1,2,3],r_reps[1][4:8],color='blue')\n",
    "plt.scatter([0,1,2,3],r_reps[2][4:8],color='blue')"
   ]
  },
  {
   "cell_type": "code",
   "execution_count": 37,
   "id": "a423305d-2aac-458b-bb57-d6b9f773d802",
   "metadata": {},
   "outputs": [
    {
     "data": {
      "text/plain": [
       "TtestResult(statistic=4.66216550242605, pvalue=0.004787039464213533, df=4.0)"
      ]
     },
     "execution_count": 37,
     "metadata": {},
     "output_type": "execute_result"
    }
   ],
   "source": [
    "stats.ttest_ind([m_reps[0][6],m_reps[1][6],m_reps[2][6]],[m_reps[0][2],m_reps[1][2],m_reps[2][2]],alternative='greater')"
   ]
  },
  {
   "cell_type": "code",
   "execution_count": 38,
   "id": "ebe6e1bd-ccbe-4c81-97d5-de520d85817b",
   "metadata": {},
   "outputs": [
    {
     "data": {
      "text/plain": [
       "[0.5243333333333333, 0.526, 0.49866666666666665]"
      ]
     },
     "execution_count": 38,
     "metadata": {},
     "output_type": "execute_result"
    }
   ],
   "source": [
    "[m_reps[0][6],m_reps[1][6],m_reps[2][6]]"
   ]
  },
  {
   "cell_type": "code",
   "execution_count": 39,
   "id": "ce102c94-102d-4d6d-a5da-5b4802a2825c",
   "metadata": {},
   "outputs": [
    {
     "data": {
      "text/plain": [
       "[0.4740000000000001, 0.45966666666666667, 0.47433333333333333]"
      ]
     },
     "execution_count": 39,
     "metadata": {},
     "output_type": "execute_result"
    }
   ],
   "source": [
    "[m_reps[0][2],m_reps[1][2],m_reps[2][2]]"
   ]
  },
  {
   "cell_type": "code",
   "execution_count": null,
   "id": "9b4aa751-b10b-448d-b35e-9c5d4f265908",
   "metadata": {},
   "outputs": [],
   "source": []
  }
 ],
 "metadata": {
  "kernelspec": {
   "display_name": "Python 3 (ipykernel)",
   "language": "python",
   "name": "python3"
  },
  "language_info": {
   "codemirror_mode": {
    "name": "ipython",
    "version": 3
   },
   "file_extension": ".py",
   "mimetype": "text/x-python",
   "name": "python",
   "nbconvert_exporter": "python",
   "pygments_lexer": "ipython3",
   "version": "3.11.6"
  }
 },
 "nbformat": 4,
 "nbformat_minor": 5
}
