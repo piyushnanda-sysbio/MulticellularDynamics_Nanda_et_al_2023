{
 "cells": [
  {
   "cell_type": "code",
   "execution_count": 1,
   "metadata": {},
   "outputs": [],
   "source": [
    "import networkx as nx\n",
    "import numpy as np\n",
    "import pandas as pd\n",
    "import seaborn as sns\n",
    "import matplotlib.pyplot as plt \n",
    "import scipy as sp\n",
    "from pylab import *\n",
    "from networkx.drawing.nx_pydot import graphviz_layout\n",
    "from networkx.algorithms import bipartite\n",
    "import random as rd\n",
    "from collections import Counter\n",
    "import pylab \n",
    "import scipy.stats as stats\n",
    "import warnings\n",
    "import matplotlib.animation as animation\n",
    "import os\n",
    "\n",
    "\n",
    "warnings.filterwarnings('ignore')\n"
   ]
  },
  {
   "cell_type": "code",
   "execution_count": 2,
   "metadata": {},
   "outputs": [],
   "source": [
    "#Function for drawing radial graphs in NetworkX library\n",
    "def hierarchy_pos(G, root=None, width=1., vert_gap = 0.2, vert_loc = 0, xcenter = 0.5):\n",
    "\n",
    "    if not nx.is_tree(G):\n",
    "        raise TypeError('cannot use hierarchy_pos on a graph that is not a tree')\n",
    "\n",
    "    if root is None:\n",
    "        if isinstance(G, nx.DiGraph):\n",
    "            root = next(iter(nx.topological_sort(G)))  #allows back compatibility with nx version 1.11\n",
    "        else:\n",
    "            root = random.choice(list(G.nodes))\n",
    "\n",
    "    def _hierarchy_pos(G, root, width=1., vert_gap = 0.2, vert_loc = 0, xcenter = 0.5, pos = None, parent = None):\n",
    "    \n",
    "        if pos is None:\n",
    "            pos = {root:(xcenter,vert_loc)}\n",
    "        else:\n",
    "            pos[root] = (xcenter, vert_loc)\n",
    "        children = list(G.neighbors(root))\n",
    "        if not isinstance(G, nx.DiGraph) and parent is not None:\n",
    "            children.remove(parent)  \n",
    "        if len(children)!=0:\n",
    "            dx = width/len(children) \n",
    "            nextx = xcenter - width/2 - dx/2\n",
    "            for child in children:\n",
    "                nextx += dx\n",
    "                pos = _hierarchy_pos(G,child, width = dx, vert_gap = vert_gap, \n",
    "                                    vert_loc = vert_loc-vert_gap, xcenter=nextx,\n",
    "                                    pos=pos, parent = root)\n",
    "        return pos\n",
    "\n",
    "            \n",
    "    return _hierarchy_pos(G, root, width, vert_gap, vert_loc, xcenter)"
   ]
  },
  {
   "cell_type": "code",
   "execution_count": 3,
   "metadata": {},
   "outputs": [],
   "source": [
    "#Counting the number of clusters and composition of cluster (cells per cluster)\n",
    "def module_counter():\n",
    "    global g\n",
    "    cluster_counter=0\n",
    "    for e in g.edges():\n",
    "        if(g.edges[e[0],e[1]]['break']==0):\n",
    "            cluster_counter=cluster_counter+1\n",
    "            for n in g.nodes():\n",
    "                if(n.endswith(e[1][1:])):\n",
    "                    g.nodes[n]['clust']=str(cluster_counter)"
   ]
  },
  {
   "cell_type": "code",
   "execution_count": 4,
   "metadata": {},
   "outputs": [],
   "source": [
    "#Calculation of Kullback-Leibler Divergence between the experimental and model derived distribution\n",
    "def KL(a, b):\n",
    "    a = np.asarray(a, dtype=np.float)\n",
    "    b = np.asarray(b, dtype=np.float)\n",
    "    return np.sum(np.where(a != 0, a * np.log(a / b), 0))"
   ]
  },
  {
   "cell_type": "code",
   "execution_count": 5,
   "metadata": {},
   "outputs": [],
   "source": [
    "#Count the distribution of number of cells per cluster\n",
    "def count_freq(g):\n",
    "    clust_information=[]\n",
    "    for n in g.nodes():\n",
    "        clust_information.append(g.nodes[n]['clust'])\n",
    "    a=Counter(clust_information)\n",
    "    freq=list(a.values())\n",
    "    return freq"
   ]
  },
  {
   "cell_type": "code",
   "execution_count": 6,
   "metadata": {},
   "outputs": [],
   "source": [
    "def graph_snap(t,sim_time):\n",
    "    for n in g.nodes():\n",
    "        g.nodes[n]['snap_time']=int(str(n)[1])\n",
    "    for e in g.edges():\n",
    "        if(g.edges[e[0],e[1]]['break']==1):\n",
    "            g.edges[e[0],e[1]]['snap_time']=int(e[1][1])-1\n",
    "        else:\n",
    "            g.edges[e[0],e[1]]['snap_time']=sim_time"
   ]
  },
  {
   "cell_type": "code",
   "execution_count": 7,
   "metadata": {},
   "outputs": [],
   "source": [
    "def break_cluster_sa(t,max_node):\n",
    "    global g\n",
    "    cluster_counter=0\n",
    "    degree_list=[]\n",
    "    \n",
    "    for e in g.edges():\n",
    "        if(t>=g.edges[e[0],e[1]]['t_break'] and (g.edges[e[0],e[1]]['break']!=0)):\n",
    "            g.edges[e[0],e[1]]['break']=0\n",
    "\n",
    "    node_list=[node for node in g.nodes()]\n",
    "    for node in node_list:\n",
    "        edges_temp=g.edges(node)\n",
    "        break_list=[g.edges[ed[0],ed[1]]['break'] for ed in edges_temp]\n",
    "        degree_list.append(sum(break_list))\n",
    "    max_nodes = [node_list[i] for i, x in enumerate(degree_list) if x == max(degree_list)]\n",
    "    max_degrees = [degree_list[i] for i, x in enumerate(degree_list) if x == max(degree_list)]\n",
    "    \n",
    "    for i,node in enumerate(max_nodes):\n",
    "        if(max_degrees[i]>=max_node):\n",
    "            edges=[edge for edge in g.edges(node) if g.edges[edge[0],edge[1]]['break']!=0]\n",
    "            edge_bt=[g.edges[e[0],e[1]]['t_break'] for e in edges]\n",
    "            for k,bt in enumerate(edge_bt): \n",
    "                if(np.round(bt,0)>=t):\n",
    "                    edge_tbb=edges[k]\n",
    "                    g.edges[edge_tbb[0],edge_tbb[1]]['break']=0    \n",
    "\n",
    "        "
   ]
  },
  {
   "cell_type": "code",
   "execution_count": 8,
   "metadata": {},
   "outputs": [],
   "source": [
    "def grow_func_kn(t,mbt,max_node):\n",
    "    global g\n",
    "    nextg=g.copy()\n",
    "    \n",
    "    degree_list=[]\n",
    "    node_kn=[]\n",
    "    node_list=[node for node in g.nodes()]\n",
    "   \n",
    "    for node in node_list:\n",
    "        edges_temp=g.edges(node)\n",
    "        break_list=[g.edges[ed[0],ed[1]]['break'] for ed in edges_temp]\n",
    "        degree_list.append(sum(break_list))\n",
    "    max_nodes = [node_list[i] for i, x in enumerate(degree_list) if x == max(degree_list)]\n",
    "    max_degrees = [degree_list[i] for i, x in enumerate(degree_list) if x == max(degree_list)]\n",
    "    \n",
    "    for i,node in enumerate(max_nodes):\n",
    "        if(max_degrees[i]==(max_node-1)):\n",
    "            node_kn.append(node)\n",
    "#     print(len(node_kn))\n",
    "    for n in g.nodes():\n",
    "        if(n in node_kn):\n",
    "            pass\n",
    "        else:\n",
    "            new_node='Y'+str(t)+'_'+str(n)[1:] #Naming daughter cells to track lineage information\n",
    "            nextg.add_edge(str(n),new_node) #Growth\n",
    "            nextg.nodes[new_node]['clust']=nextg.nodes[str(n)]['clust'] #Inherit the cluster information\n",
    "            nextg.edges[str(n),new_node]['break']=1\n",
    "            nextg.edges[str(n),new_node]['t_break']=t+np.random.exponential(scale=mbt)\n",
    "    g=nextg"
   ]
  },
  {
   "cell_type": "code",
   "execution_count": 9,
   "metadata": {},
   "outputs": [],
   "source": [
    "def grow(t,mbt):\n",
    "    global g\n",
    "    nextg=g.copy()\n",
    "    for n in g.nodes():\n",
    "        new_node='Y'+str(t)+'_'+str(n)[1:] #Naming daughter cells to track lineage information\n",
    "        nextg.add_edge(str(n),new_node) #Growth\n",
    "        nextg.nodes[new_node]['clust']=nextg.nodes[str(n)]['clust'] #Inherit the cluster information\n",
    "        nextg.edges[str(n),new_node]['break']=1\n",
    "        nextg.edges[str(n),new_node]['t_break']=t+np.random.exponential(scale=mbt)\n",
    "    g=nextg\n",
    "\n"
   ]
  },
  {
   "cell_type": "code",
   "execution_count": 10,
   "metadata": {},
   "outputs": [],
   "source": [
    "def init_system():\n",
    "    global g\n",
    "    g=nx.Graph() #Initialization \n",
    "    g.add_node('Y0') #Mother yeast cell \n",
    "    g.nodes['Y0']['clust']='0'\n",
    "    nextg=g.copy()"
   ]
  },
  {
   "cell_type": "code",
   "execution_count": 11,
   "metadata": {},
   "outputs": [],
   "source": [
    "#Main function to call other functions associated with dissociation of the cluster, counting of cells per custer\n",
    "def clust_form_and_break(sim_time,max_node,mbt,dt,h):\n",
    "    global g\n",
    "    \n",
    "    init_system()\n",
    "    \n",
    "    for t in range(sim_time):\n",
    "        if(int(t%dt)==0):             \n",
    "            if(h==0):\n",
    "                grow(t,mbt)\n",
    "            else:\n",
    "                grow_func_kn(t,mbt,max_node)\n",
    "        \n",
    "        break_cluster_sa(t,max_node)\n",
    "        graph_snap(t,sim_time)\n",
    "    \n",
    "    module_counter()\n",
    "    \n",
    "    return g"
   ]
  },
  {
   "cell_type": "markdown",
   "metadata": {},
   "source": [
    "### Simulations for Figure 7 (Nanda et al (2023))\n",
    "\n",
    "#### Cluster-size distribution when $ \\lambda = f(\\delta) $"
   ]
  },
  {
   "cell_type": "code",
   "execution_count": 15,
   "metadata": {},
   "outputs": [
    {
     "data": {
      "image/png": "[encoded data removed]",
      "text/plain": [
       "<Figure size 288x288 with 1 Axes>"
      ]
     },
     "metadata": {
      "needs_background": "light"
     },
     "output_type": "display_data"
    }
   ],
   "source": [
    "plt.rc('font',family='helvetica')\n",
    "plt.figure(figsize=(4,4))\n",
    "np.random.seed(221)\n",
    "sns.kdeplot(pd.Series(count_freq(clust_form_and_break(30,8,100,3,1))),linestyle='--',linewidth=2.5,clip=(0,1000),color=(0.8,0.2,0,0.8))\n",
    "sns.kdeplot(pd.Series(count_freq(clust_form_and_break(30,8,100,3,0))),linestyle='--',linewidth=2.5,clip=(0,1000),color=(0.0,0.0,1,0.8))\n",
    "plt.ylim([-0.001,0.022])\n",
    "plt.xlabel('Cells per Cluster',fontsize=18)\n",
    "plt.ylabel('Density',fontsize=18)\n",
    "plt.xticks(fontsize=16)\n",
    "plt.yticks([],fontsize=16)\n",
    "plt.legend([r'$ \\lambda = f(\\kappa)$','SA Model'],fontsize=18)\n",
    "plt.tight_layout()\n",
    "plt.savefig('/Users/piyushnanda/Documents/PhD_MurrayLab/EMC/Figures/Final/Fig7.png',dpi=600)"
   ]
  },
  {
   "cell_type": "code",
   "execution_count": null,
   "metadata": {},
   "outputs": [],
   "source": []
  }
 ],
 "metadata": {
  "kernelspec": {
   "display_name": "Python 3",
   "language": "python",
   "name": "python3"
  },
  "language_info": {
   "codemirror_mode": {
    "name": "ipython",
    "version": 3
   },
   "file_extension": ".py",
   "mimetype": "text/x-python",
   "name": "python",
   "nbconvert_exporter": "python",
   "pygments_lexer": "ipython3",
   "version": "3.8.8"
  }
 },
 "nbformat": 4,
 "nbformat_minor": 4
}
