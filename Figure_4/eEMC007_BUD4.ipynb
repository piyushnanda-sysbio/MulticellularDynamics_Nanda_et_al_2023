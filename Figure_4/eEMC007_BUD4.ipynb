{
 "cells": [
  {
   "cell_type": "markdown",
   "id": "ff410933-3588-4fa0-86e2-28927fd2d47c",
   "metadata": {},
   "source": [
    "### BUD4 growth rate count final repeat (randomized stage positions) "
   ]
  },
  {
   "cell_type": "code",
   "execution_count": 2,
   "id": "363e2da6-b6fd-4351-9008-c822c2745cbe",
   "metadata": {
    "tags": []
   },
   "outputs": [],
   "source": [
    "import numpy as np\n",
    "import scipy as sp\n",
    "from scipy.stats import norm\n",
    "from scipy import stats\n",
    "import pandas as pd\n",
    "import seaborn as sns\n",
    "import matplotlib.pyplot as plt\n",
    "from collections import Counter\n",
    "import statsmodels.api as sm\n",
    "import pylab \n",
    "\n",
    "import os\n",
    "\n",
    "import warnings \n",
    "\n",
    "warnings.filterwarnings('ignore')\n",
    "\n",
    "%matplotlib inline"
   ]
  },
  {
   "cell_type": "code",
   "execution_count": 3,
   "id": "413ba8ba-8337-4b82-ace0-67400c1f1a7a",
   "metadata": {},
   "outputs": [
    {
     "name": "stdout",
     "output_type": "stream",
     "text": [
      "/Users/piyushnanda/Documents/PhD_MurrayLab/EMC/Data/eEMC007/counts_new\n"
     ]
    }
   ],
   "source": [
    "cd /Users/piyushnanda/Documents/PhD_MurrayLab/EMC/Data/eEMC007/counts_new/"
   ]
  },
  {
   "cell_type": "code",
   "execution_count": 4,
   "id": "1a37a799-eab0-4a19-93a3-c765376dae51",
   "metadata": {},
   "outputs": [],
   "source": [
    "files=os.listdir('.')"
   ]
  },
  {
   "cell_type": "code",
   "execution_count": 5,
   "id": "e2718603-7188-40a3-bd3b-9f54f2617505",
   "metadata": {},
   "outputs": [],
   "source": [
    "csv_files=[]\n",
    "ids=[]\n",
    "for f in files:\n",
    "    if ('Dap_counts.csv' in f):\n",
    "        get_id=f[4:f.index('_')]\n",
    "        ids.append(int(get_id))\n",
    "        csv_files.append(f)\n",
    "\n",
    "\n",
    "file_names=pd.DataFrame({'ID':ids,'FileName':csv_files}).sort_values('ID',ascending=True)\n"
   ]
  },
  {
   "cell_type": "code",
   "execution_count": 6,
   "id": "1f179d95-9f42-4bfc-beb6-9353afbd7a0d",
   "metadata": {},
   "outputs": [],
   "source": [
    "file_names['Set']=file_names['ID'].apply(lambda x:int((x-13)/49)+1)"
   ]
  },
  {
   "cell_type": "code",
   "execution_count": 7,
   "id": "2513369c-edb2-4508-bafc-6550d4fcc7e9",
   "metadata": {},
   "outputs": [],
   "source": [
    "arr_mean=np.zeros(shape=(16,1))\n",
    "# arr_mean=np.zeros(shape=(16,1))\n",
    "\n",
    "for k in range(0,16):\n",
    "    mas=pd.Series()\n",
    "    sub_ds=file_names.loc[file_names['Set']==(k+1),'FileName']\n",
    "    for f in sub_ds:\n",
    "        d=pd.read_csv(f)['counts']\n",
    "        # print(f,\"\\t\",d.count())\n",
    "        mas=pd.concat([mas,d])\n",
    "        # print(sum())\n",
    "        mas[mas>0].to_csv('counts_'+str(k+1)+'.csv')\n",
    "    arr_mean[k,:]=mas[mas>0].mean()\n",
    "arr_mean_f=arr_mean.transpose()[0]"
   ]
  },
  {
   "cell_type": "code",
   "execution_count": 8,
   "id": "a49be130-36c9-4811-bf75-bf0af7ff775e",
   "metadata": {},
   "outputs": [],
   "source": [
    "mean_counts=pd.DataFrame()\n",
    "mean_counts['D2']=[arr_mean_f[0],arr_mean_f[1],arr_mean_f[2],np.nan]\n",
    "mean_counts['D02']=[arr_mean_f[3],arr_mean_f[4],arr_mean_f[5],arr_mean_f[6]]\n",
    "mean_counts['D005']=[arr_mean_f[8],arr_mean_f[9],arr_mean_f[10],arr_mean_f[11]]\n",
    "mean_counts['D0025']=[arr_mean_f[12],arr_mean_f[13],arr_mean_f[14],arr_mean_f[15]]"
   ]
  },
  {
   "cell_type": "code",
   "execution_count": 9,
   "id": "c182cadb-f069-4a34-8717-56bdac6246e1",
   "metadata": {},
   "outputs": [
    {
     "data": {
      "image/png": "[encoded data removed]",
      "text/plain": [
       "<Figure size 450x500 with 1 Axes>"
      ]
     },
     "metadata": {},
     "output_type": "display_data"
    }
   ],
   "source": [
    "plt.rc('font',family='helvetica')\n",
    "plt.figure(figsize=(4.5,5))\n",
    "\n",
    "dt=np.round([3.18,3.18,3.8,5.8],1)\n",
    "dt_labels=[str(d) for d in dt]\n",
    "\n",
    "sns.boxplot(data=mean_counts,color='cyan')\n",
    "sns.stripplot(data=mean_counts,color='black',size=5)\n",
    "\n",
    "plt.ylim(6,16)\n",
    "plt.xticks([0,1,2,3],dt_labels,fontsize=16)\n",
    "plt.yticks(fontsize=16)\n",
    "plt.xlabel(r'Doubling Time (hr)',fontsize=18)\n",
    "plt.ylabel('Mean Cells per Cluster',fontsize=18)\n",
    "plt.tight_layout()\n",
    "plt.savefig('/Users/piyushnanda/Documents/PhD_MurrayLab/EMC/Figures/Final/bud4p_doubling_time_effect.jpg',dpi=600)"
   ]
  },
  {
   "cell_type": "code",
   "execution_count": 10,
   "id": "ff069844-4c9b-4335-9d37-7336fbf1eff0",
   "metadata": {},
   "outputs": [
    {
     "data": {
      "text/plain": [
       "MannwhitneyuResult(statistic=11.0, pvalue=0.05714285714285714)"
      ]
     },
     "execution_count": 10,
     "metadata": {},
     "output_type": "execute_result"
    }
   ],
   "source": [
    "stats.mannwhitneyu(mean_counts['D2'].dropna(),mean_counts['D02'].dropna(),alternative='greater')"
   ]
  },
  {
   "cell_type": "code",
   "execution_count": 11,
   "id": "63ff3b49-1758-464c-90b8-49c584f18961",
   "metadata": {},
   "outputs": [
    {
     "data": {
      "text/plain": [
       "MannwhitneyuResult(statistic=12.0, pvalue=0.02857142857142857)"
      ]
     },
     "execution_count": 11,
     "metadata": {},
     "output_type": "execute_result"
    }
   ],
   "source": [
    "stats.mannwhitneyu(mean_counts['D2'].dropna(),mean_counts['D005'].dropna(),alternative='greater')"
   ]
  },
  {
   "cell_type": "code",
   "execution_count": 12,
   "id": "d3fa5d02-0c39-43e7-b3d0-cc942d722f1b",
   "metadata": {},
   "outputs": [
    {
     "data": {
      "text/plain": [
       "MannwhitneyuResult(statistic=12.0, pvalue=0.02857142857142857)"
      ]
     },
     "execution_count": 12,
     "metadata": {},
     "output_type": "execute_result"
    }
   ],
   "source": [
    "stats.mannwhitneyu(mean_counts['D2'].dropna(),mean_counts['D0025'].dropna(),alternative='greater')"
   ]
  }
 ],
 "metadata": {
  "kernelspec": {
   "display_name": "Python 3 (ipykernel)",
   "language": "python",
   "name": "python3"
  },
  "language_info": {
   "codemirror_mode": {
    "name": "ipython",
    "version": 3
   },
   "file_extension": ".py",
   "mimetype": "text/x-python",
   "name": "python",
   "nbconvert_exporter": "python",
   "pygments_lexer": "ipython3",
   "version": "3.11.6"
  }
 },
 "nbformat": 4,
 "nbformat_minor": 5
}
