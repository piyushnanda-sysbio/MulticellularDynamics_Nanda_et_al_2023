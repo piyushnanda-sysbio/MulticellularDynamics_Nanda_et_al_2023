{
 "cells": [
  {
   "cell_type": "code",
   "execution_count": 1,
   "metadata": {},
   "outputs": [],
   "source": [
    "import networkx as nx\n",
    "import numpy as np\n",
    "import pandas as pd\n",
    "import seaborn as sns\n",
    "import matplotlib.pyplot as plt \n",
    "import scipy as sp\n",
    "from pylab import *\n",
    "from networkx.drawing.nx_pydot import graphviz_layout\n",
    "from networkx.algorithms import bipartite\n",
    "import random as rd\n",
    "from collections import Counter\n",
    "import pylab \n",
    "import scipy.stats as stats\n",
    "import warnings\n",
    "import matplotlib.animation as animation\n",
    "import os\n",
    "\n",
    "warnings.filterwarnings('ignore')\n"
   ]
  },
  {
   "cell_type": "code",
   "execution_count": 2,
   "metadata": {},
   "outputs": [],
   "source": [
    "#Function for drawing radial graphs in NetworkX library\n",
    "def hierarchy_pos(G, root=None, width=1., vert_gap = 0.2, vert_loc = 0, xcenter = 0.5):\n",
    "\n",
    "    if not nx.is_tree(G):\n",
    "        raise TypeError('cannot use hierarchy_pos on a graph that is not a tree')\n",
    "\n",
    "    if root is None:\n",
    "        if isinstance(G, nx.DiGraph):\n",
    "            root = next(iter(nx.topological_sort(G)))  #allows back compatibility with nx version 1.11\n",
    "        else:\n",
    "            root = random.choice(list(G.nodes))\n",
    "\n",
    "    def _hierarchy_pos(G, root, width=1., vert_gap = 0.2, vert_loc = 0, xcenter = 0.5, pos = None, parent = None):\n",
    "    \n",
    "        if pos is None:\n",
    "            pos = {root:(xcenter,vert_loc)}\n",
    "        else:\n",
    "            pos[root] = (xcenter, vert_loc)\n",
    "        children = list(G.neighbors(root))\n",
    "        if not isinstance(G, nx.DiGraph) and parent is not None:\n",
    "            children.remove(parent)  \n",
    "        if len(children)!=0:\n",
    "            dx = width/len(children) \n",
    "            nextx = xcenter - width/2 - dx/2\n",
    "            for child in children:\n",
    "                nextx += dx\n",
    "                pos = _hierarchy_pos(G,child, width = dx, vert_gap = vert_gap, \n",
    "                                    vert_loc = vert_loc-vert_gap, xcenter=nextx,\n",
    "                                    pos=pos, parent = root)\n",
    "        return pos\n",
    "\n",
    "            \n",
    "    return _hierarchy_pos(G, root, width, vert_gap, vert_loc, xcenter)"
   ]
  },
  {
   "cell_type": "code",
   "execution_count": 3,
   "metadata": {},
   "outputs": [],
   "source": [
    "#Counting the number of clusters and composition of cluster (cells per cluster)\n",
    "def module_counter():\n",
    "    global g\n",
    "    cluster_counter=0\n",
    "    for e in g.edges():\n",
    "        if(g.edges[e[0],e[1]]['break']==0):\n",
    "            cluster_counter=cluster_counter+1\n",
    "            for n in g.nodes():\n",
    "                if(n.endswith(e[1][1:])):\n",
    "                    g.nodes[n]['clust']=str(cluster_counter)"
   ]
  },
  {
   "cell_type": "code",
   "execution_count": 4,
   "metadata": {},
   "outputs": [],
   "source": [
    "#Calculation of Kullback-Leibler Divergence between the experimental and model derived distribution\n",
    "def KL(a, b):\n",
    "    a = np.asarray(a, dtype=np.float)\n",
    "    b = np.asarray(b, dtype=np.float)\n",
    "    return np.sum(np.where(a != 0, a * np.log(a / b), 0))"
   ]
  },
  {
   "cell_type": "code",
   "execution_count": 5,
   "metadata": {},
   "outputs": [],
   "source": [
    "#Count the distribution of number of cells per cluster\n",
    "def count_freq(g):\n",
    "    clust_information=[]\n",
    "    for n in g.nodes():\n",
    "        clust_information.append(g.nodes[n]['clust'])\n",
    "    a=Counter(clust_information)\n",
    "    freq=list(a.values())\n",
    "    return freq"
   ]
  },
  {
   "cell_type": "code",
   "execution_count": 6,
   "metadata": {},
   "outputs": [],
   "source": [
    "def graph_snap(t,sim_time):\n",
    "    for n in g.nodes():\n",
    "        g.nodes[n]['snap_time']=int(str(n)[1])\n",
    "    for e in g.edges():\n",
    "        if(g.edges[e[0],e[1]]['break']==1):\n",
    "            g.edges[e[0],e[1]]['snap_time']=int(e[1][1])-1\n",
    "        else:\n",
    "            g.edges[e[0],e[1]]['snap_time']=sim_time"
   ]
  },
  {
   "cell_type": "code",
   "execution_count": 7,
   "metadata": {},
   "outputs": [],
   "source": [
    "##This is model 1A in which there is only link breaking without any steric forces\n",
    "def break_cluster(t,max_node):\n",
    "    global g\n",
    "    cluster_counter=0\n",
    "    degree_list=[]\n",
    "    \n",
    "    node_list=[node for node in g.nodes()]\n",
    "    for node in node_list:\n",
    "        edges_temp=g.edges(node)\n",
    "        break_list=[g.edges[ed[0],ed[1]]['break'] for ed in edges_temp]\n",
    "        degree_list.append(sum(break_list))\n",
    "    max_nodes = [node_list[i] for i, x in enumerate(degree_list) if x == max(degree_list)]\n",
    "    max_degrees = [degree_list[i] for i, x in enumerate(degree_list) if x == max(degree_list)]\n",
    "    \n",
    "    for i,node in enumerate(max_nodes):\n",
    "        if(max_degrees[i]>=max_node):\n",
    "            edges=[edge for edge in g.edges(node) if g.edges[edge[0],edge[1]]['break']!=0]\n",
    "            edge_bt=[g.edges[e[0],e[1]]['t_break'] for e in edges]\n",
    "            edge_select=edges[edge_bt.index(min(edge_bt))]\n",
    "            g.edges[edge_select[0],edge_select[1]]['break']=0"
   ]
  },
  {
   "cell_type": "code",
   "execution_count": 8,
   "metadata": {},
   "outputs": [],
   "source": [
    "def grow(t,mbt):\n",
    "    global g\n",
    "    nextg=g.copy()\n",
    "    for n in g.nodes():\n",
    "        new_node='Y'+str(t)+'_'+str(n)[1:] #Naming daughter cells to track lineage information\n",
    "        nextg.add_edge(str(n),new_node) #Growth\n",
    "        nextg.nodes[new_node]['clust']=nextg.nodes[str(n)]['clust'] #Inherit the cluster information\n",
    "        nextg.edges[str(n),new_node]['break']=1\n",
    "        nextg.edges[str(n),new_node]['t_break']=t\n",
    "    g=nextg\n",
    "\n"
   ]
  },
  {
   "cell_type": "code",
   "execution_count": 9,
   "metadata": {},
   "outputs": [],
   "source": [
    "def init_system():\n",
    "    global g\n",
    "    g=nx.Graph() #Initialization \n",
    "    g.add_node('Y0') #Mother yeast cell \n",
    "    g.nodes['Y0']['clust']='0'\n",
    "    nextg=g.copy()"
   ]
  },
  {
   "cell_type": "code",
   "execution_count": 10,
   "metadata": {},
   "outputs": [],
   "source": [
    "#Main function to call other functions associated with dissociation of the cluster, counting of cells per custer\n",
    "def clust_form_and_break(sim_time,max_node,mbt,dt):\n",
    "    global g\n",
    "    \n",
    "    init_system()\n",
    "    \n",
    "    for t in range(sim_time):\n",
    "        if(int(t%dt)==0): \n",
    "            grow(t,mbt)\n",
    "        break_cluster(t,max_node)\n",
    "        graph_snap(t,sim_time)\n",
    "    \n",
    "    module_counter()\n",
    "    \n",
    "    return g"
   ]
  },
  {
   "cell_type": "markdown",
   "metadata": {},
   "source": [
    "## Cluster Size Distribution"
   ]
  },
  {
   "cell_type": "code",
   "execution_count": 17,
   "metadata": {},
   "outputs": [
    {
     "ename": "KeyboardInterrupt",
     "evalue": "Interrupted by user",
     "output_type": "error",
     "traceback": [
      "\u001b[0;31m---------------------------------------------------------------------------\u001b[0m",
      "\u001b[0;31mKeyboardInterrupt\u001b[0m                         Traceback (most recent call last)",
      "\u001b[0;32m<timed exec>\u001b[0m in \u001b[0;36m<module>\u001b[0;34m\u001b[0m\n",
      "\u001b[0;32m/opt/anaconda3/lib/python3.8/site-packages/ipykernel/kernelbase.py\u001b[0m in \u001b[0;36mraw_input\u001b[0;34m(self, prompt)\u001b[0m\n\u001b[1;32m    858\u001b[0m                 \u001b[0;34m\"raw_input was called, but this frontend does not support input requests.\"\u001b[0m\u001b[0;34m\u001b[0m\u001b[0;34m\u001b[0m\u001b[0m\n\u001b[1;32m    859\u001b[0m             )\n\u001b[0;32m--> 860\u001b[0;31m         return self._input_request(str(prompt),\n\u001b[0m\u001b[1;32m    861\u001b[0m             \u001b[0mself\u001b[0m\u001b[0;34m.\u001b[0m\u001b[0m_parent_ident\u001b[0m\u001b[0;34m,\u001b[0m\u001b[0;34m\u001b[0m\u001b[0;34m\u001b[0m\u001b[0m\n\u001b[1;32m    862\u001b[0m             \u001b[0mself\u001b[0m\u001b[0;34m.\u001b[0m\u001b[0m_parent_header\u001b[0m\u001b[0;34m,\u001b[0m\u001b[0;34m\u001b[0m\u001b[0;34m\u001b[0m\u001b[0m\n",
      "\u001b[0;32m/opt/anaconda3/lib/python3.8/site-packages/ipykernel/kernelbase.py\u001b[0m in \u001b[0;36m_input_request\u001b[0;34m(self, prompt, ident, parent, password)\u001b[0m\n\u001b[1;32m    902\u001b[0m             \u001b[0;32mexcept\u001b[0m \u001b[0mKeyboardInterrupt\u001b[0m\u001b[0;34m:\u001b[0m\u001b[0;34m\u001b[0m\u001b[0;34m\u001b[0m\u001b[0m\n\u001b[1;32m    903\u001b[0m                 \u001b[0;31m# re-raise KeyboardInterrupt, to truncate traceback\u001b[0m\u001b[0;34m\u001b[0m\u001b[0;34m\u001b[0m\u001b[0;34m\u001b[0m\u001b[0m\n\u001b[0;32m--> 904\u001b[0;31m                 \u001b[0;32mraise\u001b[0m \u001b[0mKeyboardInterrupt\u001b[0m\u001b[0;34m(\u001b[0m\u001b[0;34m\"Interrupted by user\"\u001b[0m\u001b[0;34m)\u001b[0m \u001b[0;32mfrom\u001b[0m \u001b[0;32mNone\u001b[0m\u001b[0;34m\u001b[0m\u001b[0;34m\u001b[0m\u001b[0m\n\u001b[0m\u001b[1;32m    905\u001b[0m             \u001b[0;32mexcept\u001b[0m \u001b[0mException\u001b[0m \u001b[0;32mas\u001b[0m \u001b[0me\u001b[0m\u001b[0;34m:\u001b[0m\u001b[0;34m\u001b[0m\u001b[0;34m\u001b[0m\u001b[0m\n\u001b[1;32m    906\u001b[0m                 \u001b[0mself\u001b[0m\u001b[0;34m.\u001b[0m\u001b[0mlog\u001b[0m\u001b[0;34m.\u001b[0m\u001b[0mwarning\u001b[0m\u001b[0;34m(\u001b[0m\u001b[0;34m\"Invalid Message:\"\u001b[0m\u001b[0;34m,\u001b[0m \u001b[0mexc_info\u001b[0m\u001b[0;34m=\u001b[0m\u001b[0;32mTrue\u001b[0m\u001b[0;34m)\u001b[0m\u001b[0;34m\u001b[0m\u001b[0;34m\u001b[0m\u001b[0m\n",
      "\u001b[0;31mKeyboardInterrupt\u001b[0m: Interrupted by user"
     ]
    }
   ],
   "source": [
    "%%time\n",
    "%matplotlib inline\n",
    "sim_time=int(input('Enter Simulation Time'))\n",
    "kissing_no=int(input('Enter Kissing Number'))\n",
    "mean_breaking_time=int(input('Enter Mean Breaking Time'))\n",
    "doubling_time=float(input('Enter Doubling Time'))\n",
    "repeats=int(input('Enter number of repeats'))\n",
    "\n",
    "rad=[]\n",
    "\n",
    "for i in range(repeats):\n",
    "    g=clust_form_and_break(sim_time,kissing_no,mean_breaking_time,doubling_time)\n",
    "    rad.append(np.array(count_freq(g)).mean())\n",
    "\n",
    "mean=np.mean(rad)\n",
    "std=np.std(rad)/np.power(repeats,0.5)\n",
    "# plt.plot([mean,mean],[0,0.6])\n",
    "print('\\n')\n",
    "print('Number of cells per cluster:', np.round(mean,3),u'\\u00B1',np.round(std,3))\n",
    "print('\\n')\n",
    "\n",
    "plt.figure(figsize=(6,6))\n",
    "sns.distplot(np.array(count_freq(g)),hist=False,color='blue',bins=5)\n",
    "plt.xlabel('Cells per cluster',fontsize=16)\n",
    "plt.ylabel('Density',fontsize=16)\n",
    "plt.xticks(fontsize=14)\n",
    "plt.yticks(fontsize=14)\n",
    "# plt.xlim(-10,50)\n",
    "# plt.ylim(0,1)"
   ]
  },
  {
   "cell_type": "markdown",
   "metadata": {},
   "source": [
    "### Data BUD4"
   ]
  },
  {
   "cell_type": "code",
   "execution_count": 11,
   "metadata": {},
   "outputs": [
    {
     "name": "stdout",
     "output_type": "stream",
     "text": [
      "/Users/piyushnanda/Documents/PhD_MurrayLab/EMC/Data/ePN002/BUD4_Repeat_2/counts_2\n"
     ]
    }
   ],
   "source": [
    "cd /Users/piyushnanda/Documents/PhD_MurrayLab/EMC/Data/ePN002/BUD4_Repeat_2/counts_2/"
   ]
  },
  {
   "cell_type": "code",
   "execution_count": 12,
   "metadata": {},
   "outputs": [],
   "source": [
    "files=sorted(os.listdir())\n",
    "counts=[]\n",
    "count_data=pd.DataFrame()\n",
    "\n",
    "for f in files:\n",
    "    if('BUD4' in f):\n",
    "        df=pd.read_csv(f)['cell_counts']\n",
    "        count_data[f[7:f.index('.c')]]=df"
   ]
  },
  {
   "cell_type": "code",
   "execution_count": 14,
   "metadata": {},
   "outputs": [
    {
     "name": "stdout",
     "output_type": "stream",
     "text": [
      "CPU times: user 6.65 s, sys: 218 ms, total: 6.87 s\n",
      "Wall time: 6.38 s\n"
     ]
    },
    {
     "data": {
      "image/png": "[encoded data removed]",
      "text/plain": [
       "<Figure size 288x576 with 2 Axes>"
      ]
     },
     "metadata": {
      "needs_background": "light"
     },
     "output_type": "display_data"
    }
   ],
   "source": [
    "%%time\n",
    "%matplotlib inline\n",
    "\n",
    "kn=[8,5]\n",
    "gr=[3.,3.]\n",
    "be=['0','7.5']\n",
    "xlim=[400,50]\n",
    "bins=[50,50]\n",
    "plt.rc('font',family='serif')\n",
    "fig,ax=plt.subplots(nrows=2,ncols=1,figsize=(4,8))\n",
    "t=['BUD4OFF','BUD4ON']\n",
    "\n",
    "# np.random.seed(50)\n",
    "for i in range(2):\n",
    "    sim_time=int(gr[i]*10)\n",
    "    kissing_no=kn[i]\n",
    "    mean_breaking_time=50\n",
    "    doubling_time=gr[i]\n",
    "    repeats=10\n",
    "    g=clust_form_and_break(sim_time,kissing_no,mean_breaking_time,doubling_time)\n",
    "    sns.kdeplot(count_data[be[i]],color=(0,0.0,0.0,0.8),clip=(0,xlim[i]),ax=ax[i],cumulative=True)\n",
    "    sns.kdeplot(np.array(count_freq(g)),color=(0,0.0,0.0,0.8),clip=(0,xlim[i]),ax=ax[i],linestyle='--',linewidth=3,cumulative=True)\n",
    "    ax[i].set_yticklabels([])\n",
    "    ax[i].set_ylabel('')\n",
    "    ax[0].legend(['Data','Model'],fontsize=14)\n",
    "    ax[1].legend(['Data','Model'],fontsize=14)\n",
    "\n",
    "    for j in range(10):\n",
    "        sim_time=int(gr[i]*10)\n",
    "        kissing_no=kn[i]\n",
    "        mean_breaking_time=50\n",
    "        doubling_time=gr[i]\n",
    "        repeats=10\n",
    "        g=clust_form_and_break(sim_time,kissing_no,mean_breaking_time,doubling_time)\n",
    "        sns.kdeplot(count_data[be[i]],color=(0,0.2,0.0,0.1),clip=(0,xlim[i]),ax=ax[i],cumulative=True)\n",
    "        sns.kdeplot(np.array(count_freq(g)),color=(0,0.2,0.0,0.1),clip=(0,xlim[i]),ax=ax[i],cumulative=True)\n",
    "        ax[i].set_yticklabels([])\n",
    "        ax[i].set_ylabel('')\n",
    "        ax[0].set_xlabel('')\n",
    "ax[0].set_xlabel('')\n",
    "# ax[0].set_title('SA',fontsize=20)\n",
    "ax[0].set_xlim(-10,300)\n",
    "ax[1].set_xlim(-1.5,50)\n",
    "# ax[0].set_ylim(-0.001,0.05)\n",
    "# ax[1].set_ylim(-0.001,0.2)\n",
    "ax[0].set_xticklabels([-50,0,50,100,150,200,350,300],fontsize=16)\n",
    "ax[1].set_xticklabels([-20,0,10,20,30,40,50],fontsize=16)\n",
    "ax[0].set_xlabel('Cells per cluster',fontsize=16)\n",
    "ax[1].set_xlabel('Cells per cluster',fontsize=16)\n",
    "\n",
    "fig.tight_layout()\n",
    "\n",
    "fig.savefig('/Users/piyushnanda/Documents/PhD_MurrayLab/EMC/Figures/Final/Model2C_Results.jpg',dpi=600)"
   ]
  },
  {
   "cell_type": "code",
   "execution_count": null,
   "metadata": {},
   "outputs": [],
   "source": []
  }
 ],
 "metadata": {
  "kernelspec": {
   "display_name": "Python 3",
   "language": "python",
   "name": "python3"
  },
  "language_info": {
   "codemirror_mode": {
    "name": "ipython",
    "version": 3
   },
   "file_extension": ".py",
   "mimetype": "text/x-python",
   "name": "python",
   "nbconvert_exporter": "python",
   "pygments_lexer": "ipython3",
   "version": "3.8.8"
  }
 },
 "nbformat": 4,
 "nbformat_minor": 4
}
