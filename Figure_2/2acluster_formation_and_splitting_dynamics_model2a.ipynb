{
 "cells": [
  {
   "cell_type": "code",
   "execution_count": 110,
   "metadata": {},
   "outputs": [],
   "source": [
    "import networkx as nx\n",
    "import numpy as np\n",
    "import pandas as pd\n",
    "import seaborn as sns\n",
    "import matplotlib.pyplot as plt \n",
    "import scipy as sp\n",
    "from pylab import *\n",
    "from networkx.drawing.nx_pydot import graphviz_layout\n",
    "from networkx.algorithms import bipartite\n",
    "import random as rd\n",
    "from collections import Counter\n",
    "import pylab \n",
    "import scipy.stats as stats\n",
    "import warnings\n",
    "import matplotlib.animation as animation\n",
    "import os\n",
    "\n",
    "\n",
    "warnings.filterwarnings('ignore')\n"
   ]
  },
  {
   "cell_type": "code",
   "execution_count": 111,
   "metadata": {},
   "outputs": [],
   "source": [
    "#Function for drawing radial graphs in NetworkX library\n",
    "def hierarchy_pos(G, root=None, width=1., vert_gap = 0.2, vert_loc = 0, xcenter = 0.5):\n",
    "\n",
    "    if not nx.is_tree(G):\n",
    "        raise TypeError('cannot use hierarchy_pos on a graph that is not a tree')\n",
    "\n",
    "    if root is None:\n",
    "        if isinstance(G, nx.DiGraph):\n",
    "            root = next(iter(nx.topological_sort(G)))  #allows back compatibility with nx version 1.11\n",
    "        else:\n",
    "            root = random.choice(list(G.nodes))\n",
    "\n",
    "    def _hierarchy_pos(G, root, width=1., vert_gap = 0.2, vert_loc = 0, xcenter = 0.5, pos = None, parent = None):\n",
    "    \n",
    "        if pos is None:\n",
    "            pos = {root:(xcenter,vert_loc)}\n",
    "        else:\n",
    "            pos[root] = (xcenter, vert_loc)\n",
    "        children = list(G.neighbors(root))\n",
    "        if not isinstance(G, nx.DiGraph) and parent is not None:\n",
    "            children.remove(parent)  \n",
    "        if len(children)!=0:\n",
    "            dx = width/len(children) \n",
    "            nextx = xcenter - width/2 - dx/2\n",
    "            for child in children:\n",
    "                nextx += dx\n",
    "                pos = _hierarchy_pos(G,child, width = dx, vert_gap = vert_gap, \n",
    "                                    vert_loc = vert_loc-vert_gap, xcenter=nextx,\n",
    "                                    pos=pos, parent = root)\n",
    "        return pos\n",
    "\n",
    "            \n",
    "    return _hierarchy_pos(G, root, width, vert_gap, vert_loc, xcenter)"
   ]
  },
  {
   "cell_type": "code",
   "execution_count": 112,
   "metadata": {},
   "outputs": [],
   "source": [
    "#Counting the number of clusters and composition of cluster (cells per cluster)\n",
    "def module_counter():\n",
    "    global g\n",
    "    cluster_counter=0\n",
    "    for e in g.edges():\n",
    "        if(g.edges[e[0],e[1]]['break']==0):\n",
    "            cluster_counter=cluster_counter+1\n",
    "            for n in g.nodes():\n",
    "                if(n.endswith(e[1][1:])):\n",
    "                    g.nodes[n]['clust']=str(cluster_counter)"
   ]
  },
  {
   "cell_type": "code",
   "execution_count": 113,
   "metadata": {},
   "outputs": [],
   "source": [
    "#Calculation of Kullback-Leibler Divergence between the experimental and model derived distribution\n",
    "def KL(a, b):\n",
    "    a = np.asarray(a, dtype=np.float)\n",
    "    b = np.asarray(b, dtype=np.float)\n",
    "    return np.sum(np.where(a != 0, a * np.log(a / b), 0))"
   ]
  },
  {
   "cell_type": "code",
   "execution_count": 114,
   "metadata": {},
   "outputs": [],
   "source": [
    "#Count the distribution of number of cells per cluster\n",
    "def count_freq(g):\n",
    "    clust_information=[]\n",
    "    for n in g.nodes():\n",
    "        clust_information.append(g.nodes[n]['clust'])\n",
    "    a=Counter(clust_information)\n",
    "    freq=list(a.values())\n",
    "    return freq"
   ]
  },
  {
   "cell_type": "code",
   "execution_count": 115,
   "metadata": {},
   "outputs": [],
   "source": [
    "def graph_snap(t,sim_time):\n",
    "    for n in g.nodes():\n",
    "        g.nodes[n]['snap_time']=int(str(n)[1])\n",
    "    for e in g.edges():\n",
    "        if(g.edges[e[0],e[1]]['break']==1):\n",
    "            g.edges[e[0],e[1]]['snap_time']=int(e[1][1])-1\n",
    "        else:\n",
    "            g.edges[e[0],e[1]]['snap_time']=sim_time"
   ]
  },
  {
   "cell_type": "code",
   "execution_count": 116,
   "metadata": {},
   "outputs": [],
   "source": [
    "\n",
    "def break_cluster(t,max_node):\n",
    "    global g\n",
    "    cluster_counter=0\n",
    "    degree_list=[]\n",
    "    \n",
    "    for e in g.edges():\n",
    "        if(t>=g.edges[e[0],e[1]]['t_break'] and (g.edges[e[0],e[1]]['break']!=0)):\n",
    "            g.edges[e[0],e[1]]['break']=0\n",
    "\n",
    "\n",
    "    node_list=[node for node in g.nodes()]\n",
    "    for node in node_list:\n",
    "        edges_temp=g.edges(node)\n",
    "        break_list=[g.edges[ed[0],ed[1]]['break'] for ed in edges_temp]\n",
    "        degree_list.append(sum(break_list))\n",
    "    max_nodes = [node_list[i] for i, x in enumerate(degree_list) if x == max(degree_list)]\n",
    "    max_degrees = [degree_list[i] for i, x in enumerate(degree_list) if x == max(degree_list)]\n",
    "    \n",
    "    for i,node in enumerate(max_nodes):\n",
    "        if(max_degrees[i]>=max_node):\n",
    "            edges=[edge for edge in g.edges(node) if g.edges[edge[0],edge[1]]['break']!=0]\n",
    "            edge_bt=[g.edges[e[0],e[1]]['t_break'] for e in edges]\n",
    "            for k,bt in enumerate(edge_bt): \n",
    "                if(np.round(bt,0)>=t):\n",
    "                    edge_tbb=edges[k]\n",
    "                    g.edges[edge_tbb[0],edge_tbb[1]]['break']=0    \n",
    "\n",
    "        "
   ]
  },
  {
   "cell_type": "code",
   "execution_count": 117,
   "metadata": {},
   "outputs": [],
   "source": [
    "def grow(t,mbt):\n",
    "    global g\n",
    "    nextg=g.copy()\n",
    "    for n in g.nodes():\n",
    "        new_node='Y'+str(t)+'_'+str(n)[1:] #Naming daughter cells to track lineage information\n",
    "        nextg.add_edge(str(n),new_node) #Growth\n",
    "        nextg.nodes[new_node]['clust']=nextg.nodes[str(n)]['clust'] #Inherit the cluster information\n",
    "        nextg.edges[str(n),new_node]['break']=1\n",
    "        nextg.edges[str(n),new_node]['t_break']=t+np.random.exponential(scale=mbt)\n",
    "    g=nextg\n",
    "\n"
   ]
  },
  {
   "cell_type": "code",
   "execution_count": 118,
   "metadata": {},
   "outputs": [],
   "source": [
    "def init_system():\n",
    "    global g\n",
    "    g=nx.Graph() #Initialization \n",
    "    g.add_node('Y0') #Mother yeast cell \n",
    "    g.nodes['Y0']['clust']='0'\n",
    "    nextg=g.copy()"
   ]
  },
  {
   "cell_type": "code",
   "execution_count": 119,
   "metadata": {},
   "outputs": [],
   "source": [
    "#Main function to call other functions associated with dissociation of the cluster, counting of cells per custer\n",
    "def clust_form_and_break(sim_time,max_node,mbt,dt):\n",
    "    global g\n",
    "    \n",
    "    init_system()\n",
    "    \n",
    "    for t in range(sim_time):\n",
    "        if(int(t%dt)==0): \n",
    "            grow(t,mbt)\n",
    "        break_cluster(t,max_node)\n",
    "        graph_snap(t,sim_time)\n",
    "    \n",
    "    module_counter()\n",
    "    \n",
    "    return g"
   ]
  },
  {
   "cell_type": "markdown",
   "metadata": {},
   "source": [
    "### Data BUD4"
   ]
  },
  {
   "cell_type": "code",
   "execution_count": 121,
   "metadata": {},
   "outputs": [
    {
     "name": "stdout",
     "output_type": "stream",
     "text": [
      "/Users/piyushnanda/Documents/PhD_MurrayLab/EMC/Data/ePN002/BUD4_Repeat_2/counts_2\n"
     ]
    }
   ],
   "source": [
    "cd /Users/piyushnanda/Documents/PhD_MurrayLab/EMC/Data/ePN002/BUD4_Repeat_2/counts_2/"
   ]
  },
  {
   "cell_type": "code",
   "execution_count": 122,
   "metadata": {},
   "outputs": [],
   "source": [
    "files=sorted(os.listdir())\n",
    "counts=[]\n",
    "count_data=pd.DataFrame()\n",
    "\n",
    "for f in files:\n",
    "    if('BUD4' in f):\n",
    "        df=pd.read_csv(f)['cell_counts']\n",
    "        count_data[f[7:f.index('.c')]]=df"
   ]
  },
  {
   "cell_type": "code",
   "execution_count": 125,
   "metadata": {},
   "outputs": [
    {
     "name": "stdout",
     "output_type": "stream",
     "text": [
      "CPU times: user 1.15 s, sys: 108 ms, total: 1.26 s\n",
      "Wall time: 734 ms\n"
     ]
    },
    {
     "data": {
      "image/png": "[encoded data removed]",
      "text/plain": [
       "<Figure size 288x576 with 2 Axes>"
      ]
     },
     "metadata": {
      "needs_background": "light"
     },
     "output_type": "display_data"
    }
   ],
   "source": [
    "%%time\n",
    "%matplotlib inline\n",
    "\n",
    "kn=[8,5]\n",
    "gr=[3,3]\n",
    "be=['0','7.5']\n",
    "xlim=[250,30]\n",
    "bins=[50,50]\n",
    "mbt=[100,32]\n",
    "plt.rc('font',family='serif')\n",
    "fig,ax=plt.subplots(nrows=2,ncols=1,figsize=(4,8))\n",
    "t=['BUD4OFF','BUD4ON']\n",
    "\n",
    "\n",
    "i=1\n",
    "sim_time=int(gr[i]*10)\n",
    "kissing_no=kn[i]\n",
    "mean_breaking_time=mbt[i]\n",
    "doubling_time=gr[i]\n",
    "\n",
    "g=clust_form_and_break(sim_time,kissing_no,mean_breaking_time,doubling_time)\n",
    "\n",
    "sns.kdeplot(np.array(count_freq(g)),color=(1,0.0,0.0,1),linestyle='--',linewidth=2,clip=(0,xlim[i]),ax=ax[i],cumulative=False)\n",
    "ax[i].hist(count_data[be[i]],7,color=(0.1,0.1,0.1,0.05),cumulative=False,density=True,edgecolor=(0,0,0,0.5),linewidth=2)\n",
    "sns.kdeplot(count_data[be[i]],color=(0,0.0,1.0,1),linestyle='--',linewidth=2,clip=(0,xlim[i]),ax=ax[i],cumulative=False)\n",
    "\n",
    "ax[i].set_yticks([])\n",
    "ax[i].set_ylabel('')\n",
    "ax[0].set_xlabel('')\n",
    "ax[i].legend(['SA Model','Data Density Fit','Data'],fontsize=12)\n",
    "ax[0].set_xlabel('')\n",
    "ax[0].set_xlim(-10,150)\n",
    "ax[1].set_xlim(-1.5,40)\n",
    "ax[0].set_xticklabels([-50,0,50,100,150,200,250],fontsize=16)\n",
    "ax[1].set_xticklabels([-20,0,10,20,30,40,50],fontsize=16)\n",
    "ax[0].set_xlabel('Cells per cluster',fontsize=16)\n",
    "ax[1].set_xlabel('Cells per cluster',fontsize=16)\n",
    "\n",
    "fig.tight_layout()\n",
    "\n",
    "fig.savefig('/Users/piyushnanda/Documents/PhD_MurrayLab/EMC/Figures/Final/Model2A_ON.jpg',dpi=600)"
   ]
  },
  {
   "cell_type": "markdown",
   "metadata": {},
   "source": [
    "#### Mean breaking time is trying to tell us something deep and remarkable about our world and it deserves my attention. "
   ]
  },
  {
   "cell_type": "code",
   "execution_count": 114,
   "metadata": {},
   "outputs": [],
   "source": [
    "ks_2samp_pval=[]\n",
    "for k in range(100):\n",
    "    sim_time=int(3*10)\n",
    "    kissing_no=8\n",
    "    mean_breaking_time=100\n",
    "    doubling_time=3\n",
    "    g=clust_form_and_break(sim_time,kissing_no,mean_breaking_time,doubling_time)\n",
    "    stat,pval=stats.ks_2samp(count_data[be[0]],count_freq(g))\n",
    "    ks_2samp_pval.append(pval)"
   ]
  },
  {
   "cell_type": "code",
   "execution_count": 115,
   "metadata": {},
   "outputs": [
    {
     "data": {
      "text/plain": [
       "<AxesSubplot:ylabel='Density'>"
      ]
     },
     "execution_count": 115,
     "metadata": {},
     "output_type": "execute_result"
    },
    {
     "data": {
      "image/png": "[encoded data removed]",
      "text/plain": [
       "<Figure size 432x288 with 1 Axes>"
      ]
     },
     "metadata": {
      "needs_background": "light"
     },
     "output_type": "display_data"
    }
   ],
   "source": [
    "sns.distplot(ks_2samp_pval)"
   ]
  },
  {
   "cell_type": "code",
   "execution_count": 82,
   "metadata": {},
   "outputs": [
    {
     "data": {
      "text/plain": [
       "KstestResult(statistic=0.24545454545454545, pvalue=4.1851656993508983e-05)"
      ]
     },
     "execution_count": 82,
     "metadata": {},
     "output_type": "execute_result"
    }
   ],
   "source": [
    "sim_time=int(3*10)\n",
    "kissing_no=5\n",
    "mean_breaking_time=100\n",
    "doubling_time=3\n",
    "g=clust_form_and_break(sim_time,kissing_no,mean_breaking_time,doubling_time)\n",
    "stats.ks_2samp(count_data[be[1]],count_freq(g))"
   ]
  },
  {
   "cell_type": "markdown",
   "metadata": {},
   "source": [
    "## Cluster Statistics Experiment vs Simulations"
   ]
  },
  {
   "cell_type": "code",
   "execution_count": 39,
   "metadata": {},
   "outputs": [],
   "source": [
    "f=pd.read_csv('/Users/piyushnanda/Documents/PhD_MurrayLab/EMC/Data/ePN002/stats_bud4_on_off.csv')"
   ]
  },
  {
   "cell_type": "code",
   "execution_count": 40,
   "metadata": {},
   "outputs": [
    {
     "data": {
      "image/png": "[encoded data removed]",
      "text/plain": [
       "<Figure size 504x288 with 1 Axes>"
      ]
     },
     "metadata": {
      "needs_background": "light"
     },
     "output_type": "display_data"
    }
   ],
   "source": [
    "ind = np.arange(0,6)*1.33  \n",
    "width = .33\n",
    "\n",
    "plt.rc('font',family='serif')\n",
    "plt.figure(figsize=(7,4))\n",
    "plt.bar(ind-width, f['Min'][0:6], width,label='Min',color='red',edgecolor='black',linewidth=2,linestyle='--')\n",
    "plt.bar(ind, f['Mean'][0:6], width,label='Mean',color='white',edgecolor='black',linewidth=2,linestyle='--')\n",
    "plt.bar(ind+width, f['Max'][0:6], width,label='Max',color='lightblue',edgecolor='black',linewidth=2,linestyle='--')\n",
    "plt.xticks(ind,['NSA','NSR','SA','SR','SO','Exp.'],fontsize=18)\n",
    "plt.yticks(fontsize=19)\n",
    "plt.legend(fontsize=11)\n",
    "plt.ylabel('Cells per Cluster',fontsize=18)\n",
    "plt.yscale('log',base=2)\n",
    "plt.tight_layout()\n",
    "\n",
    "# plt.savefig('/Users/piyushnanda/Documents/PhD_MurrayLab/EMC/Figures/ON_Comparison.jpg',dpi=600)\n"
   ]
  },
  {
   "cell_type": "code",
   "execution_count": 41,
   "metadata": {},
   "outputs": [
    {
     "data": {
      "image/png": "[encoded data removed]",
      "text/plain": [
       "<Figure size 504x288 with 1 Axes>"
      ]
     },
     "metadata": {
      "needs_background": "light"
     },
     "output_type": "display_data"
    }
   ],
   "source": [
    "ind = np.arange(0,6)*1.33  \n",
    "width = .33\n",
    "\n",
    "plt.rc('font',family='serif')\n",
    "plt.figure(figsize=(7,4))\n",
    "plt.bar(ind-width, f['Min'][6:12], width,label='Min',color='red',edgecolor='black',linewidth=2,linestyle='--')\n",
    "plt.bar(ind, f['Mean'][6:12], width,label='Mean',color='white',edgecolor='black',linewidth=2,linestyle='--')\n",
    "plt.bar(ind+width, f['Max'][6:12], width,label='Max',color='lightblue',edgecolor='black',linewidth=2,linestyle='--')\n",
    "plt.xticks(ind,['NSA','NSR','SA','SR','SO','Exp.'],fontsize=18)\n",
    "plt.yticks(fontsize=19)\n",
    "plt.legend(fontsize=11)\n",
    "plt.ylabel('Cells per Cluster',fontsize=18)\n",
    "plt.yscale('log',base=2)\n",
    "plt.tight_layout()\n",
    "\n",
    "# plt.savefig('/Users/piyushnanda/Documents/PhD_MurrayLab/EMC/Figures/OFF_Comparison.jpg',dpi=600)"
   ]
  },
  {
   "cell_type": "code",
   "execution_count": null,
   "metadata": {},
   "outputs": [],
   "source": []
  }
 ],
 "metadata": {
  "kernelspec": {
   "display_name": "Python 3 (ipykernel)",
   "language": "python",
   "name": "python3"
  },
  "language_info": {
   "codemirror_mode": {
    "name": "ipython",
    "version": 3
   },
   "file_extension": ".py",
   "mimetype": "text/x-python",
   "name": "python",
   "nbconvert_exporter": "python",
   "pygments_lexer": "ipython3",
   "version": "3.11.6"
  }
 },
 "nbformat": 4,
 "nbformat_minor": 4
}
